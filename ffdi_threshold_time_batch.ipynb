{
 "cells": [
  {
   "cell_type": "markdown",
   "id": "4c6d6354-c8c7-4802-8015-aa6e2600aa55",
   "metadata": {},
   "source": [
    "# FFDI and Thresholding\n",
    "\n",
    "code is setup to process either bias-input or bias-output data into FFDI thresholds.\n",
    "\n",
    "The FFDI code uses the zarr stores of the individual simulations which requires the rechunking\n",
    "\n",
    "Thresholding uses the FFDI files of the individual simulations\n",
    "\n",
    "This version uses time rather than GWL for the processing \n",
    "Only two times considerd 1985-2014 and 2080-2100 with the first time period only applied to historical runs and the second time period to future runs"
   ]
  },
  {
   "cell_type": "code",
   "execution_count": 8,
   "id": "eadbe924-351b-4469-8daf-8034a1de18c8",
   "metadata": {
    "execution": {
     "iopub.execute_input": "2025-03-14T03:23:01.222943Z",
     "iopub.status.busy": "2025-03-14T03:23:01.221747Z",
     "iopub.status.idle": "2025-03-14T03:23:01.232280Z",
     "shell.execute_reply": "2025-03-14T03:23:01.231301Z",
     "shell.execute_reply.started": "2025-03-14T03:23:01.222886Z"
    }
   },
   "outputs": [],
   "source": [
    "import sys\n",
    "import os\n",
    "\n",
    "import intake\n",
    "import xarray as xr\n",
    "from matplotlib import pyplot as plt\n",
    "import glob\n",
    "import pathlib\n",
    "import traceback\n",
    "from sys import argv\n",
    "from datetime import datetime\n",
    "from xclim.indices import (\n",
    "    keetch_byram_drought_index,\n",
    "    griffiths_drought_factor,\n",
    "    mcarthur_forest_fire_danger_index\n",
    ")\n",
    "from dask.distributed import Client        \n",
    "import dask\n",
    "import warnings\n",
    "\n",
    "# Needed for the GWL code\n",
    "from importlib import reload\n",
    "# adding folder to the system path\n",
    "sys.path.insert(0, '/g/data/xv83/rxm599/acs/gwls')\n",
    "\n",
    "import gwl"
   ]
  },
  {
   "cell_type": "code",
   "execution_count": 9,
   "id": "35be1768-a6c2-46d2-bd59-1fa1b7c32a8f",
   "metadata": {
    "execution": {
     "iopub.execute_input": "2025-03-14T03:23:02.193677Z",
     "iopub.status.busy": "2025-03-14T03:23:02.193095Z",
     "iopub.status.idle": "2025-03-14T03:23:02.200173Z",
     "shell.execute_reply": "2025-03-14T03:23:02.198979Z",
     "shell.execute_reply.started": "2025-03-14T03:23:02.193624Z"
    }
   },
   "outputs": [],
   "source": [
    "def setup_dask_client():\n",
    "# Set configuration options\n",
    "    dask.config.set({\n",
    "    'distributed.comm.timeouts.connect': '90s',  # Timeout for connecting to a worker\n",
    "    'distributed.comm.timeouts.tcp': '90s',  # Timeout for TCP communications\n",
    "    })\n",
    "    client = Client()\n",
    "    return client"
   ]
  },
  {
   "cell_type": "code",
   "execution_count": 10,
   "id": "6d0c9a69-df09-4c33-aa22-296c447357ef",
   "metadata": {
    "execution": {
     "iopub.execute_input": "2025-03-14T03:23:03.687061Z",
     "iopub.status.busy": "2025-03-14T03:23:03.686352Z",
     "iopub.status.idle": "2025-03-14T03:23:03.696110Z",
     "shell.execute_reply": "2025-03-14T03:23:03.694601Z",
     "shell.execute_reply.started": "2025-03-14T03:23:03.687005Z"
    }
   },
   "outputs": [],
   "source": [
    "def extract_model_info(filepath):\n",
    "    filename = filepath.split('/')[-1]  # Get the filename from the full path\n",
    "    filename_no_ext = filename.split('.')[0]  # Remove the file extension\n",
    "    parts = filename_no_ext.split('_')  # Split filename by underscores\n",
    "#    print(parts)\n",
    "    RCM=parts[1]\n",
    "    GCM=parts[2]\n",
    "    \n",
    "    # Extract model name\n",
    "    model_name = filename_no_ext\n",
    "    extension = filename.split('.')[-1]  # Get the extension\n",
    "    \n",
    "    match = '_'.join(parts[1:3])  # Extract match (e.g., EC-Earth3_ssp370_r1i1p1f1)\n",
    "    pathway = parts[3]  # Extract model (e.g., ssp370)\n",
    "    ensemble = parts[4]  # Extract ensemble (e.g., r1i1p1f1)\n",
    "    \n",
    "    return [model_name, extension], RCM, GCM, ensemble, pathway"
   ]
  },
  {
   "cell_type": "code",
   "execution_count": 11,
   "id": "c993183b-802a-49cd-a24b-54aac36bc0df",
   "metadata": {
    "execution": {
     "iopub.execute_input": "2025-03-14T03:23:05.365265Z",
     "iopub.status.busy": "2025-03-14T03:23:05.364163Z",
     "iopub.status.idle": "2025-03-14T03:23:05.377518Z",
     "shell.execute_reply": "2025-03-14T03:23:05.376079Z",
     "shell.execute_reply.started": "2025-03-14T03:23:05.365216Z"
    }
   },
   "outputs": [],
   "source": [
    "def process_thresholda(data, time_dim, syear, eyear, var, period):\n",
    "# first set time slice\n",
    "    start=str(syear)+'-01-01'\n",
    "    end=str(eyear+1)+'-01-01'\n",
    "    nyear=eyear-syear+1; inyear=1./nyear\n",
    "    data = data.sel(**{time_dim: slice(start, end)}).persist() # use file chunking .persist()\n",
    "    print(f\"Processing period {period}\")\n",
    "# days over key thresholds (days/yr)\n",
    "#    d100 = data > 100 ; d100.groupby(time_dim.year).mean\n",
    "    d3a=(data > 100 ).groupby('time.year').sum('time').to_dataset(name='days100')\n",
    "    d2a=(data > 75 ).groupby('time.year').sum('time').to_dataset(name='days75')\n",
    "    d1a=(data > 50 ).groupby('time.year').sum('time').to_dataset(name='days50')\n",
    "    d4a=(data > 25 ).groupby('time.year').sum('time').to_dataset(name='days25')\n",
    "    d3 = (data > 100).sum('time').to_dataset(name='days100') *inyear\n",
    "    d2 = (data > 75).sum('time').to_dataset(name='days75') *inyear\n",
    "    d1 = (data > 50).sum('time').to_dataset(name='days50') *inyear\n",
    "    d4 = (data > 25).sum('time').to_dataset(name='days25') *inyear\n",
    "    dss=xr.merge([d1,d2,d3,d4]) \n",
    "    dsa=xr.merge([d1a,d2a,d3a,d4a]) \n",
    "    return dss,data,dsa"
   ]
  },
  {
   "cell_type": "code",
   "execution_count": 17,
   "id": "0dfb8655-cf77-42ce-93b8-d13e593d26a8",
   "metadata": {
    "execution": {
     "iopub.execute_input": "2025-03-14T03:44:34.922113Z",
     "iopub.status.busy": "2025-03-14T03:44:34.918937Z",
     "iopub.status.idle": "2025-03-14T03:44:34.942531Z",
     "shell.execute_reply": "2025-03-14T03:44:34.939922Z",
     "shell.execute_reply.started": "2025-03-14T03:44:34.922008Z"
    }
   },
   "outputs": [],
   "source": [
    "def process_GWL_levels(path_ffdi,model_name, GCM, ensemble, pathway, ffdi_data):\n",
    "    CMIP='CMIP6'\n",
    "    GWL_levels = ['time']\n",
    "#    GWL_levels = ['1.2']\n",
    "# historical pathway is skipped\n",
    "    for GWL in GWL_levels:\n",
    "        print(f\"Processing GWL {GWL} for model: {GCM}, ensemble: {ensemble}, pathway: {pathway}\")\n",
    "            \n",
    "# append the historical data to the ssp dataset before doing thresholding\n",
    "        if pathway != 'historical' :\n",
    "            mm=model_name.replace(pathway, \"historical\")\n",
    "            ffdi0=xr.open_zarr(path_ffdi+mm+'_FFDI.zarr')\n",
    "            ffdi1=xr.open_zarr(path_ffdi+model_name+'_FFDI.zarr')\n",
    "            ffdi2=ffdi1.sel(time=slice('2015-01-01','2100-01-01') )\n",
    "            ffdi_data=xr.concat([ffdi0,ffdi2],dim='time')\n",
    "            print(ffdi_data)\n",
    "            start, end = 2080, 2099\n",
    "            print(f'year range= {start},{end} for {GWL}')\n",
    "            stime=f'{start}-{end}'\n",
    "        else :\n",
    "            ffdi_data=xr.open_zarr(path_ffdi+model_name+'_FFDI.zarr')\n",
    "            start, end = 1995, 2014\n",
    "            print(f'year range= {start},{end} for {GWL}')\n",
    "            stime=f'{start}-{end}'\n",
    "        \n",
    "        d4, ddata, d4a = process_thresholda(ffdi_data.FFDI, 'time', start, end, 'FFDI', GWL)\n",
    "#        d4, ddata = process_threshold(ffdi_data.FFDI, 'time', start, end, 'FFDI', GWL)\n",
    "        output_path = f'/scratch/xv83/rxm599/tmp/{model_name}_{stime}_ffdi_threshold.nc'\n",
    "        output_path2= f'/scratch/xv83/rxm599/tmp/{model_name}_{stime}_ffdi_thresholda.nc'\n",
    "        output_path1 = f'/scratch/xv83/rxm599/tmp/{model_name}_{stime}_ffdi.zarr'\n",
    "        print(f\"Saved  to {output_path}\")\n",
    "        d4.to_netcdf(output_path)\n",
    "        d4a.to_netcdf(output_path2)\n",
    "#        ddata.to_zarr(output_path1)\n",
    "    return d4"
   ]
  },
  {
   "cell_type": "code",
   "execution_count": 13,
   "id": "af03fa4f-001d-49d4-ac8c-5887c0ee59fe",
   "metadata": {
    "execution": {
     "iopub.execute_input": "2025-03-14T03:23:27.376187Z",
     "iopub.status.busy": "2025-03-14T03:23:27.375590Z",
     "iopub.status.idle": "2025-03-14T03:23:27.382686Z",
     "shell.execute_reply": "2025-03-14T03:23:27.381244Z",
     "shell.execute_reply.started": "2025-03-14T03:23:27.376136Z"
    },
    "scrolled": true
   },
   "outputs": [],
   "source": [
    "# Example code to read from command line if not interactive (just make the cell code)\n",
    "def is_interactive():\n",
    "    import __main__ as main\n",
    "    return not hasattr(main, '__file__')\n"
   ]
  },
  {
   "cell_type": "code",
   "execution_count": null,
   "id": "831f116f-8fb0-4c77-bc30-0ab848710367",
   "metadata": {
    "execution": {
     "iopub.execute_input": "2025-03-14T03:44:41.785253Z",
     "iopub.status.busy": "2025-03-14T03:44:41.784235Z"
    }
   },
   "outputs": [
    {
     "name": "stdout",
     "output_type": "stream",
     "text": [
      "Modifying workers\n"
     ]
    },
    {
     "name": "stderr",
     "output_type": "stream",
     "text": [
      "/g/data/hh5/public/apps/dask-optimiser/schedplugin.py:160: UserWarning: Attempted illegal binding: []\n",
      "  warn(f\"Attempted illegal binding: {(sorted(list(self.slots_available - taken_slots))[:self.worker.state.nthreads])}\")\n",
      "/g/data/hh5/public/apps/dask-optimiser/schedplugin.py:160: UserWarning: Attempted illegal binding: []\n",
      "  warn(f\"Attempted illegal binding: {(sorted(list(self.slots_available - taken_slots))[:self.worker.state.nthreads])}\")\n",
      "/g/data/hh5/public/apps/dask-optimiser/schedplugin.py:160: UserWarning: Attempted illegal binding: []\n",
      "  warn(f\"Attempted illegal binding: {(sorted(list(self.slots_available - taken_slots))[:self.worker.state.nthreads])}\")\n"
     ]
    },
    {
     "name": "stdout",
     "output_type": "stream",
     "text": [
      "Dashboard available at: /node/gadi-cpu-bdw-0248.gadi.nci.org.au/36414/proxy/35845/status\n",
      "117\n",
      "['/g/data/ia39/catalogues/bias-output/AUST-05i_BOM_ACCESS-CM2_historical_r4i1p1f1_BARPA-R_v1-r1-ACS-QME-BARRAR2-1980-2022_day.json', '/g/data/ia39/catalogues/bias-output/AUST-05i_BOM_ACCESS-CM2_ssp126_r4i1p1f1_BARPA-R_v1-r1-ACS-QME-BARRAR2-1980-2022_day.json', '/g/data/ia39/catalogues/bias-output/AUST-05i_BOM_ACCESS-CM2_ssp370_r4i1p1f1_BARPA-R_v1-r1-ACS-QME-BARRAR2-1980-2022_day.json', '/g/data/ia39/catalogues/bias-output/AUST-05i_BOM_ACCESS-ESM1-5_historical_r6i1p1f1_BARPA-R_v1-r1-ACS-QME-BARRAR2-1980-2022_day.json', '/g/data/ia39/catalogues/bias-output/AUST-05i_BOM_ACCESS-ESM1-5_ssp126_r6i1p1f1_BARPA-R_v1-r1-ACS-QME-BARRAR2-1980-2022_day.json', '/g/data/ia39/catalogues/bias-output/AUST-05i_BOM_ACCESS-ESM1-5_ssp370_r6i1p1f1_BARPA-R_v1-r1-ACS-QME-BARRAR2-1980-2022_day.json', '/g/data/ia39/catalogues/bias-output/AUST-05i_BOM_CESM2_historical_r11i1p1f1_BARPA-R_v1-r1-ACS-QME-BARRAR2-1980-2022_day.json', '/g/data/ia39/catalogues/bias-output/AUST-05i_BOM_CESM2_ssp126_r11i1p1f1_BARPA-R_v1-r1-ACS-QME-BARRAR2-1980-2022_day.json', '/g/data/ia39/catalogues/bias-output/AUST-05i_BOM_CESM2_ssp370_r11i1p1f1_BARPA-R_v1-r1-ACS-QME-BARRAR2-1980-2022_day.json', '/g/data/ia39/catalogues/bias-output/AUST-05i_BOM_CMCC-ESM2_historical_r1i1p1f1_BARPA-R_v1-r1-ACS-QME-BARRAR2-1980-2022_day.json', '/g/data/ia39/catalogues/bias-output/AUST-05i_BOM_CMCC-ESM2_ssp126_r1i1p1f1_BARPA-R_v1-r1-ACS-QME-BARRAR2-1980-2022_day.json', '/g/data/ia39/catalogues/bias-output/AUST-05i_BOM_CMCC-ESM2_ssp370_r1i1p1f1_BARPA-R_v1-r1-ACS-QME-BARRAR2-1980-2022_day.json', '/g/data/ia39/catalogues/bias-output/AUST-05i_BOM_EC-Earth3_historical_r1i1p1f1_BARPA-R_v1-r1-ACS-QME-BARRAR2-1980-2022_day.json', '/g/data/ia39/catalogues/bias-output/AUST-05i_BOM_EC-Earth3_ssp126_r1i1p1f1_BARPA-R_v1-r1-ACS-QME-BARRAR2-1980-2022_day.json', '/g/data/ia39/catalogues/bias-output/AUST-05i_BOM_EC-Earth3_ssp370_r1i1p1f1_BARPA-R_v1-r1-ACS-QME-BARRAR2-1980-2022_day.json', '/g/data/ia39/catalogues/bias-output/AUST-05i_BOM_MPI-ESM1-2-HR_historical_r1i1p1f1_BARPA-R_v1-r1-ACS-QME-BARRAR2-1980-2022_day.json', '/g/data/ia39/catalogues/bias-output/AUST-05i_BOM_MPI-ESM1-2-HR_ssp126_r1i1p1f1_BARPA-R_v1-r1-ACS-QME-BARRAR2-1980-2022_day.json', '/g/data/ia39/catalogues/bias-output/AUST-05i_BOM_MPI-ESM1-2-HR_ssp370_r1i1p1f1_BARPA-R_v1-r1-ACS-QME-BARRAR2-1980-2022_day.json', '/g/data/ia39/catalogues/bias-output/AUST-05i_BOM_NorESM2-MM_historical_r1i1p1f1_BARPA-R_v1-r1-ACS-QME-BARRAR2-1980-2022_day.json', '/g/data/ia39/catalogues/bias-output/AUST-05i_BOM_NorESM2-MM_ssp126_r1i1p1f1_BARPA-R_v1-r1-ACS-QME-BARRAR2-1980-2022_day.json', '/g/data/ia39/catalogues/bias-output/AUST-05i_BOM_NorESM2-MM_ssp370_r1i1p1f1_BARPA-R_v1-r1-ACS-QME-BARRAR2-1980-2022_day.json', '/g/data/ia39/catalogues/bias-output/AUST-05i_CSIRO_ACCESS-CM2_historical_r4i1p1f1_CCAM-v2203-SN_v1-r1-ACS-QME-BARRAR2-1980-2022_day.json', '/g/data/ia39/catalogues/bias-output/AUST-05i_CSIRO_ACCESS-CM2_ssp126_r4i1p1f1_CCAM-v2203-SN_v1-r1-ACS-QME-BARRAR2-1980-2022_day.json', '/g/data/ia39/catalogues/bias-output/AUST-05i_CSIRO_ACCESS-CM2_ssp370_r4i1p1f1_CCAM-v2203-SN_v1-r1-ACS-QME-BARRAR2-1980-2022_day.json', '/g/data/ia39/catalogues/bias-output/AUST-05i_CSIRO_ACCESS-ESM1-5_historical_r6i1p1f1_CCAM-v2203-SN_v1-r1-ACS-QME-BARRAR2-1980-2022_day.json', '/g/data/ia39/catalogues/bias-output/AUST-05i_CSIRO_ACCESS-ESM1-5_ssp126_r6i1p1f1_CCAM-v2203-SN_v1-r1-ACS-QME-BARRAR2-1980-2022_day.json', '/g/data/ia39/catalogues/bias-output/AUST-05i_CSIRO_ACCESS-ESM1-5_ssp370_r6i1p1f1_CCAM-v2203-SN_v1-r1-ACS-QME-BARRAR2-1980-2022_day.json', '/g/data/ia39/catalogues/bias-output/AUST-05i_CSIRO_CESM2_historical_r11i1p1f1_CCAM-v2203-SN_v1-r1-ACS-QME-BARRAR2-1980-2022_day.json', '/g/data/ia39/catalogues/bias-output/AUST-05i_CSIRO_CESM2_ssp126_r11i1p1f1_CCAM-v2203-SN_v1-r1-ACS-QME-BARRAR2-1980-2022_day.json', '/g/data/ia39/catalogues/bias-output/AUST-05i_CSIRO_CESM2_ssp370_r11i1p1f1_CCAM-v2203-SN_v1-r1-ACS-QME-BARRAR2-1980-2022_day.json', '/g/data/ia39/catalogues/bias-output/AUST-05i_CSIRO_CMCC-ESM2_historical_r1i1p1f1_CCAM-v2203-SN_v1-r1-ACS-QME-BARRAR2-1980-2022_day.json', '/g/data/ia39/catalogues/bias-output/AUST-05i_CSIRO_CMCC-ESM2_ssp126_r1i1p1f1_CCAM-v2203-SN_v1-r1-ACS-QME-BARRAR2-1980-2022_day.json', '/g/data/ia39/catalogues/bias-output/AUST-05i_CSIRO_CMCC-ESM2_ssp370_r1i1p1f1_CCAM-v2203-SN_v1-r1-ACS-QME-BARRAR2-1980-2022_day.json', '/g/data/ia39/catalogues/bias-output/AUST-05i_CSIRO_CNRM-ESM2-1_historical_r1i1p1f2_CCAM-v2203-SN_v1-r1-ACS-QME-BARRAR2-1980-2022_day.json', '/g/data/ia39/catalogues/bias-output/AUST-05i_CSIRO_CNRM-ESM2-1_ssp126_r1i1p1f2_CCAM-v2203-SN_v1-r1-ACS-QME-BARRAR2-1980-2022_day.json', '/g/data/ia39/catalogues/bias-output/AUST-05i_CSIRO_CNRM-ESM2-1_ssp370_r1i1p1f2_CCAM-v2203-SN_v1-r1-ACS-QME-BARRAR2-1980-2022_day.json', '/g/data/ia39/catalogues/bias-output/AUST-05i_CSIRO_EC-Earth3_historical_r1i1p1f1_CCAM-v2203-SN_v1-r1-ACS-QME-BARRAR2-1980-2022_day.json', '/g/data/ia39/catalogues/bias-output/AUST-05i_CSIRO_EC-Earth3_ssp126_r1i1p1f1_CCAM-v2203-SN_v1-r1-ACS-QME-BARRAR2-1980-2022_day.json', '/g/data/ia39/catalogues/bias-output/AUST-05i_CSIRO_EC-Earth3_ssp370_r1i1p1f1_CCAM-v2203-SN_v1-r1-ACS-QME-BARRAR2-1980-2022_day.json', '/g/data/ia39/catalogues/bias-output/AUST-05i_CSIRO_NorESM2-MM_historical_r1i1p1f1_CCAM-v2203-SN_v1-r1-ACS-QME-BARRAR2-1980-2022_day.json', '/g/data/ia39/catalogues/bias-output/AUST-05i_CSIRO_NorESM2-MM_ssp126_r1i1p1f1_CCAM-v2203-SN_v1-r1-ACS-QME-BARRAR2-1980-2022_day.json', '/g/data/ia39/catalogues/bias-output/AUST-05i_CSIRO_NorESM2-MM_ssp370_r1i1p1f1_CCAM-v2203-SN_v1-r1-ACS-QME-BARRAR2-1980-2022_day.json', '/g/data/ia39/catalogues/bias-output/AUST-05i_NSW-Government_ACCESS-ESM1-5_historical_r6i1p1f1_NARCliM2-0-WRF412R3_v1-r1-ACS-QME-BARRAR2-1980-2022_day.json', '/g/data/ia39/catalogues/bias-output/AUST-05i_NSW-Government_ACCESS-ESM1-5_historical_r6i1p1f1_NARCliM2-0-WRF412R5_v1-r1-ACS-QME-BARRAR2-1980-2022_day.json', '/g/data/ia39/catalogues/bias-output/AUST-05i_NSW-Government_ACCESS-ESM1-5_ssp126_r6i1p1f1_NARCliM2-0-WRF412R3_v1-r1-ACS-QME-BARRAR2-1980-2022_day.json', '/g/data/ia39/catalogues/bias-output/AUST-05i_NSW-Government_ACCESS-ESM1-5_ssp126_r6i1p1f1_NARCliM2-0-WRF412R5_v1-r1-ACS-QME-BARRAR2-1980-2022_day.json', '/g/data/ia39/catalogues/bias-output/AUST-05i_NSW-Government_ACCESS-ESM1-5_ssp370_r6i1p1f1_NARCliM2-0-WRF412R3_v1-r1-ACS-QME-BARRAR2-1980-2022_day.json', '/g/data/ia39/catalogues/bias-output/AUST-05i_NSW-Government_ACCESS-ESM1-5_ssp370_r6i1p1f1_NARCliM2-0-WRF412R5_v1-r1-ACS-QME-BARRAR2-1980-2022_day.json', '/g/data/ia39/catalogues/bias-output/AUST-05i_NSW-Government_EC-Earth3-Veg_historical_r1i1p1f1_NARCliM2-0-WRF412R3_v1-r1-ACS-QME-BARRAR2-1980-2022_day.json', '/g/data/ia39/catalogues/bias-output/AUST-05i_NSW-Government_EC-Earth3-Veg_historical_r1i1p1f1_NARCliM2-0-WRF412R5_v1-r1-ACS-QME-BARRAR2-1980-2022_day.json', '/g/data/ia39/catalogues/bias-output/AUST-05i_NSW-Government_EC-Earth3-Veg_ssp126_r1i1p1f1_NARCliM2-0-WRF412R3_v1-r1-ACS-QME-BARRAR2-1980-2022_day.json', '/g/data/ia39/catalogues/bias-output/AUST-05i_NSW-Government_EC-Earth3-Veg_ssp126_r1i1p1f1_NARCliM2-0-WRF412R5_v1-r1-ACS-QME-BARRAR2-1980-2022_day.json', '/g/data/ia39/catalogues/bias-output/AUST-05i_NSW-Government_EC-Earth3-Veg_ssp370_r1i1p1f1_NARCliM2-0-WRF412R3_v1-r1-ACS-QME-BARRAR2-1980-2022_day.json', '/g/data/ia39/catalogues/bias-output/AUST-05i_NSW-Government_EC-Earth3-Veg_ssp370_r1i1p1f1_NARCliM2-0-WRF412R5_v1-r1-ACS-QME-BARRAR2-1980-2022_day.json', '/g/data/ia39/catalogues/bias-output/AUST-05i_NSW-Government_MPI-ESM1-2-HR_historical_r1i1p1f1_NARCliM2-0-WRF412R3_v1-r1-ACS-QME-BARRAR2-1980-2022_day.json', '/g/data/ia39/catalogues/bias-output/AUST-05i_NSW-Government_MPI-ESM1-2-HR_historical_r1i1p1f1_NARCliM2-0-WRF412R5_v1-r1-ACS-QME-BARRAR2-1980-2022_day.json', '/g/data/ia39/catalogues/bias-output/AUST-05i_NSW-Government_MPI-ESM1-2-HR_ssp126_r1i1p1f1_NARCliM2-0-WRF412R3_v1-r1-ACS-QME-BARRAR2-1980-2022_day.json', '/g/data/ia39/catalogues/bias-output/AUST-05i_NSW-Government_MPI-ESM1-2-HR_ssp126_r1i1p1f1_NARCliM2-0-WRF412R5_v1-r1-ACS-QME-BARRAR2-1980-2022_day.json', '/g/data/ia39/catalogues/bias-output/AUST-05i_NSW-Government_MPI-ESM1-2-HR_ssp370_r1i1p1f1_NARCliM2-0-WRF412R3_v1-r1-ACS-QME-BARRAR2-1980-2022_day.json', '/g/data/ia39/catalogues/bias-output/AUST-05i_NSW-Government_MPI-ESM1-2-HR_ssp370_r1i1p1f1_NARCliM2-0-WRF412R5_v1-r1-ACS-QME-BARRAR2-1980-2022_day.json', '/g/data/ia39/catalogues/bias-output/AUST-05i_NSW-Government_NorESM2-MM_historical_r1i1p1f1_NARCliM2-0-WRF412R3_v1-r1-ACS-QME-BARRAR2-1980-2022_day.json', '/g/data/ia39/catalogues/bias-output/AUST-05i_NSW-Government_NorESM2-MM_historical_r1i1p1f1_NARCliM2-0-WRF412R5_v1-r1-ACS-QME-BARRAR2-1980-2022_day.json', '/g/data/ia39/catalogues/bias-output/AUST-05i_NSW-Government_NorESM2-MM_ssp126_r1i1p1f1_NARCliM2-0-WRF412R3_v1-r1-ACS-QME-BARRAR2-1980-2022_day.json', '/g/data/ia39/catalogues/bias-output/AUST-05i_NSW-Government_NorESM2-MM_ssp126_r1i1p1f1_NARCliM2-0-WRF412R5_v1-r1-ACS-QME-BARRAR2-1980-2022_day.json', '/g/data/ia39/catalogues/bias-output/AUST-05i_NSW-Government_NorESM2-MM_ssp370_r1i1p1f1_NARCliM2-0-WRF412R3_v1-r1-ACS-QME-BARRAR2-1980-2022_day.json', '/g/data/ia39/catalogues/bias-output/AUST-05i_NSW-Government_NorESM2-MM_ssp370_r1i1p1f1_NARCliM2-0-WRF412R5_v1-r1-ACS-QME-BARRAR2-1980-2022_day.json', '/g/data/ia39/catalogues/bias-output/AUST-05i_NSW-Government_UKESM1-0-LL_historical_r1i1p1f2_NARCliM2-0-WRF412R3_v1-r1-ACS-QME-BARRAR2-1980-2022_day.json', '/g/data/ia39/catalogues/bias-output/AUST-05i_NSW-Government_UKESM1-0-LL_historical_r1i1p1f2_NARCliM2-0-WRF412R5_v1-r1-ACS-QME-BARRAR2-1980-2022_day.json', '/g/data/ia39/catalogues/bias-output/AUST-05i_NSW-Government_UKESM1-0-LL_ssp126_r1i1p1f2_NARCliM2-0-WRF412R3_v1-r1-ACS-QME-BARRAR2-1980-2022_day.json', '/g/data/ia39/catalogues/bias-output/AUST-05i_NSW-Government_UKESM1-0-LL_ssp126_r1i1p1f2_NARCliM2-0-WRF412R5_v1-r1-ACS-QME-BARRAR2-1980-2022_day.json', '/g/data/ia39/catalogues/bias-output/AUST-05i_NSW-Government_UKESM1-0-LL_ssp370_r1i1p1f2_NARCliM2-0-WRF412R3_v1-r1-ACS-QME-BARRAR2-1980-2022_day.json', '/g/data/ia39/catalogues/bias-output/AUST-05i_NSW-Government_UKESM1-0-LL_ssp370_r1i1p1f2_NARCliM2-0-WRF412R5_v1-r1-ACS-QME-BARRAR2-1980-2022_day.json', '/g/data/ia39/catalogues/bias-output/AUST-05i_UQ-DES_ACCESS-CM2_historical_r2i1p1f1_CCAMoc-v2112_v1-r1-ACS-QME-BARRAR2-1980-2022_day.json', '/g/data/ia39/catalogues/bias-output/AUST-05i_UQ-DES_ACCESS-CM2_ssp126_r2i1p1f1_CCAMoc-v2112_v1-r1-ACS-QME-BARRAR2-1980-2022_day.json', '/g/data/ia39/catalogues/bias-output/AUST-05i_UQ-DES_ACCESS-CM2_ssp370_r2i1p1f1_CCAMoc-v2112_v1-r1-ACS-QME-BARRAR2-1980-2022_day.json', '/g/data/ia39/catalogues/bias-output/AUST-05i_UQ-DES_ACCESS-ESM1-5_historical_r20i1p1f1_CCAMoc-v2112_v1-r1-ACS-QME-BARRAR2-1980-2022_day.json', '/g/data/ia39/catalogues/bias-output/AUST-05i_UQ-DES_ACCESS-ESM1-5_historical_r40i1p1f1_CCAMoc-v2112_v1-r1-ACS-QME-BARRAR2-1980-2022_day.json', '/g/data/ia39/catalogues/bias-output/AUST-05i_UQ-DES_ACCESS-ESM1-5_historical_r6i1p1f1_CCAM-v2105_v1-r1-ACS-QME-BARRAR2-1980-2022_day.json', '/g/data/ia39/catalogues/bias-output/AUST-05i_UQ-DES_ACCESS-ESM1-5_ssp126_r20i1p1f1_CCAMoc-v2112_v1-r1-ACS-QME-BARRAR2-1980-2022_day.json', '/g/data/ia39/catalogues/bias-output/AUST-05i_UQ-DES_ACCESS-ESM1-5_ssp126_r40i1p1f1_CCAMoc-v2112_v1-r1-ACS-QME-BARRAR2-1980-2022_day.json', '/g/data/ia39/catalogues/bias-output/AUST-05i_UQ-DES_ACCESS-ESM1-5_ssp126_r6i1p1f1_CCAM-v2105_v1-r1-ACS-QME-BARRAR2-1980-2022_day.json', '/g/data/ia39/catalogues/bias-output/AUST-05i_UQ-DES_ACCESS-ESM1-5_ssp370_r20i1p1f1_CCAMoc-v2112_v1-r1-ACS-QME-BARRAR2-1980-2022_day.json', '/g/data/ia39/catalogues/bias-output/AUST-05i_UQ-DES_ACCESS-ESM1-5_ssp370_r40i1p1f1_CCAMoc-v2112_v1-r1-ACS-QME-BARRAR2-1980-2022_day.json', '/g/data/ia39/catalogues/bias-output/AUST-05i_UQ-DES_ACCESS-ESM1-5_ssp370_r6i1p1f1_CCAM-v2105_v1-r1-ACS-QME-BARRAR2-1980-2022_day.json', '/g/data/ia39/catalogues/bias-output/AUST-05i_UQ-DES_CMCC-ESM2_historical_r1i1p1f1_CCAM-v2105_v1-r1-ACS-QME-BARRAR2-1980-2022_day.json', '/g/data/ia39/catalogues/bias-output/AUST-05i_UQ-DES_CMCC-ESM2_ssp126_r1i1p1f1_CCAM-v2105_v1-r1-ACS-QME-BARRAR2-1980-2022_day.json', '/g/data/ia39/catalogues/bias-output/AUST-05i_UQ-DES_CMCC-ESM2_ssp370_r1i1p1f1_CCAM-v2105_v1-r1-ACS-QME-BARRAR2-1980-2022_day.json', '/g/data/ia39/catalogues/bias-output/AUST-05i_UQ-DES_CNRM-CM6-1-HR_historical_r1i1p1f2_CCAM-v2112_v1-r1-ACS-QME-BARRAR2-1980-2022_day.json', '/g/data/ia39/catalogues/bias-output/AUST-05i_UQ-DES_CNRM-CM6-1-HR_historical_r1i1p1f2_CCAMoc-v2112_v1-r1-ACS-QME-BARRAR2-1980-2022_day.json', '/g/data/ia39/catalogues/bias-output/AUST-05i_UQ-DES_CNRM-CM6-1-HR_ssp126_r1i1p1f2_CCAM-v2112_v1-r1-ACS-QME-BARRAR2-1980-2022_day.json', '/g/data/ia39/catalogues/bias-output/AUST-05i_UQ-DES_CNRM-CM6-1-HR_ssp126_r1i1p1f2_CCAMoc-v2112_v1-r1-ACS-QME-BARRAR2-1980-2022_day.json', '/g/data/ia39/catalogues/bias-output/AUST-05i_UQ-DES_CNRM-CM6-1-HR_ssp370_r1i1p1f2_CCAM-v2112_v1-r1-ACS-QME-BARRAR2-1980-2022_day.json', '/g/data/ia39/catalogues/bias-output/AUST-05i_UQ-DES_CNRM-CM6-1-HR_ssp370_r1i1p1f2_CCAMoc-v2112_v1-r1-ACS-QME-BARRAR2-1980-2022_day.json', '/g/data/ia39/catalogues/bias-output/AUST-05i_UQ-DES_EC-Earth3_historical_r1i1p1f1_CCAM-v2105_v1-r1-ACS-QME-BARRAR2-1980-2022_day.json', '/g/data/ia39/catalogues/bias-output/AUST-05i_UQ-DES_EC-Earth3_ssp126_r1i1p1f1_CCAM-v2105_v1-r1-ACS-QME-BARRAR2-1980-2022_day.json', '/g/data/ia39/catalogues/bias-output/AUST-05i_UQ-DES_EC-Earth3_ssp370_r1i1p1f1_CCAM-v2105_v1-r1-ACS-QME-BARRAR2-1980-2022_day.json', '/g/data/ia39/catalogues/bias-output/AUST-05i_UQ-DES_FGOALS-g3_historical_r4i1p1f1_CCAM-v2105_v1-r1-ACS-QME-BARRAR2-1980-2022_day.json', '/g/data/ia39/catalogues/bias-output/AUST-05i_UQ-DES_FGOALS-g3_ssp126_r4i1p1f1_CCAM-v2105_v1-r1-ACS-QME-BARRAR2-1980-2022_day.json', '/g/data/ia39/catalogues/bias-output/AUST-05i_UQ-DES_FGOALS-g3_ssp370_r4i1p1f1_CCAM-v2105_v1-r1-ACS-QME-BARRAR2-1980-2022_day.json', '/g/data/ia39/catalogues/bias-output/AUST-05i_UQ-DES_GFDL-ESM4_historical_r1i1p1f1_CCAM-v2105_v1-r1-ACS-QME-BARRAR2-1980-2022_day.json', '/g/data/ia39/catalogues/bias-output/AUST-05i_UQ-DES_GFDL-ESM4_ssp126_r1i1p1f1_CCAM-v2105_v1-r1-ACS-QME-BARRAR2-1980-2022_day.json', '/g/data/ia39/catalogues/bias-output/AUST-05i_UQ-DES_GFDL-ESM4_ssp370_r1i1p1f1_CCAM-v2105_v1-r1-ACS-QME-BARRAR2-1980-2022_day.json', '/g/data/ia39/catalogues/bias-output/AUST-05i_UQ-DES_GISS-E2-1-G_historical_r2i1p1f2_CCAM-v2105_v1-r1-ACS-QME-BARRAR2-1980-2022_day.json', '/g/data/ia39/catalogues/bias-output/AUST-05i_UQ-DES_GISS-E2-1-G_ssp126_r2i1p1f2_CCAM-v2105_v1-r1-ACS-QME-BARRAR2-1980-2022_day.json', '/g/data/ia39/catalogues/bias-output/AUST-05i_UQ-DES_GISS-E2-1-G_ssp370_r2i1p1f2_CCAM-v2105_v1-r1-ACS-QME-BARRAR2-1980-2022_day.json', '/g/data/ia39/catalogues/bias-output/AUST-05i_UQ-DES_MPI-ESM1-2-LR_historical_r9i1p1f1_CCAM-v2105_v1-r1-ACS-QME-BARRAR2-1980-2022_day.json', '/g/data/ia39/catalogues/bias-output/AUST-05i_UQ-DES_MPI-ESM1-2-LR_ssp126_r9i1p1f1_CCAM-v2105_v1-r1-ACS-QME-BARRAR2-1980-2022_day.json', '/g/data/ia39/catalogues/bias-output/AUST-05i_UQ-DES_MPI-ESM1-2-LR_ssp370_r9i1p1f1_CCAM-v2105_v1-r1-ACS-QME-BARRAR2-1980-2022_day.json', '/g/data/ia39/catalogues/bias-output/AUST-05i_UQ-DES_MRI-ESM2-0_historical_r1i1p1f1_CCAM-v2105_v1-r1-ACS-QME-BARRAR2-1980-2022_day.json', '/g/data/ia39/catalogues/bias-output/AUST-05i_UQ-DES_MRI-ESM2-0_ssp126_r1i1p1f1_CCAM-v2105_v1-r1-ACS-QME-BARRAR2-1980-2022_day.json', '/g/data/ia39/catalogues/bias-output/AUST-05i_UQ-DES_MRI-ESM2-0_ssp370_r1i1p1f1_CCAM-v2105_v1-r1-ACS-QME-BARRAR2-1980-2022_day.json', '/g/data/ia39/catalogues/bias-output/AUST-05i_UQ-DES_NorESM2-MM_historical_r1i1p1f1_CCAM-v2112_v1-r1-ACS-QME-BARRAR2-1980-2022_day.json', '/g/data/ia39/catalogues/bias-output/AUST-05i_UQ-DES_NorESM2-MM_historical_r1i1p1f1_CCAMoc-v2112_v1-r1-ACS-QME-BARRAR2-1980-2022_day.json', '/g/data/ia39/catalogues/bias-output/AUST-05i_UQ-DES_NorESM2-MM_ssp126_r1i1p1f1_CCAM-v2112_v1-r1-ACS-QME-BARRAR2-1980-2022_day.json', '/g/data/ia39/catalogues/bias-output/AUST-05i_UQ-DES_NorESM2-MM_ssp126_r1i1p1f1_CCAMoc-v2112_v1-r1-ACS-QME-BARRAR2-1980-2022_day.json', '/g/data/ia39/catalogues/bias-output/AUST-05i_UQ-DES_NorESM2-MM_ssp370_r1i1p1f1_CCAM-v2112_v1-r1-ACS-QME-BARRAR2-1980-2022_day.json', '/g/data/ia39/catalogues/bias-output/AUST-05i_UQ-DES_NorESM2-MM_ssp370_r1i1p1f1_CCAMoc-v2112_v1-r1-ACS-QME-BARRAR2-1980-2022_day.json']\n",
      "/g/data/ia39/catalogues/bias-output/AUST-05i_BOM_ACCESS-CM2_historical_r4i1p1f1_BARPA-R_v1-r1-ACS-QME-BARRAR2-1980-2022_day.json\n",
      "0\n",
      "Processing GWL time for model: ACCESS-CM2, ensemble: r4i1p1f1, pathway: historical\n"
     ]
    },
    {
     "name": "stderr",
     "output_type": "stream",
     "text": [
      "INFO:flox:Entering _validate_reindex: reindex is None\n",
      "INFO:flox:Leaving _validate_reindex: method = None, returning None\n",
      "INFO:flox:_choose_engine: Choosing 'flox'\n",
      "INFO:flox:_choose_method: method is None\n",
      "INFO:flox:_choose_method: choosing preferred_method=blockwise\n",
      "INFO:flox:Entering _validate_reindex: reindex is None\n",
      "INFO:flox:Leaving _validate_reindex: reindex is False\n",
      "INFO:flox:Entering _validate_reindex: reindex is None\n",
      "INFO:flox:Leaving _validate_reindex: method = None, returning None\n",
      "INFO:flox:_choose_engine: Choosing 'flox'\n",
      "INFO:flox:_choose_method: method is None\n",
      "INFO:flox:_choose_method: choosing preferred_method=blockwise\n",
      "INFO:flox:Entering _validate_reindex: reindex is None\n",
      "INFO:flox:Leaving _validate_reindex: reindex is False\n"
     ]
    },
    {
     "name": "stdout",
     "output_type": "stream",
     "text": [
      "year range= 1995,2014 for time\n",
      "Processing period time\n"
     ]
    },
    {
     "name": "stderr",
     "output_type": "stream",
     "text": [
      "INFO:flox:Entering _validate_reindex: reindex is None\n",
      "INFO:flox:Leaving _validate_reindex: method = None, returning None\n",
      "INFO:flox:_choose_engine: Choosing 'flox'\n",
      "INFO:flox:_choose_method: method is None\n",
      "INFO:flox:_choose_method: choosing preferred_method=blockwise\n",
      "INFO:flox:Entering _validate_reindex: reindex is None\n",
      "INFO:flox:Leaving _validate_reindex: reindex is False\n",
      "INFO:flox:Entering _validate_reindex: reindex is None\n",
      "INFO:flox:Leaving _validate_reindex: method = None, returning None\n",
      "INFO:flox:_choose_engine: Choosing 'flox'\n",
      "INFO:flox:_choose_method: method is None\n",
      "INFO:flox:_choose_method: choosing preferred_method=blockwise\n",
      "INFO:flox:Entering _validate_reindex: reindex is None\n",
      "INFO:flox:Leaving _validate_reindex: reindex is False\n"
     ]
    },
    {
     "name": "stdout",
     "output_type": "stream",
     "text": [
      "Saved  to /scratch/xv83/rxm599/tmp/AUST-05i_BOM_ACCESS-CM2_historical_r4i1p1f1_BARPA-R_v1-r1-ACS-QME-BARRAR2-1980-2022_day_1995-2014_ffdi_threshold.nc\n",
      "/g/data/ia39/catalogues/bias-output/AUST-05i_BOM_ACCESS-CM2_ssp126_r4i1p1f1_BARPA-R_v1-r1-ACS-QME-BARRAR2-1980-2022_day.json\n",
      "1\n",
      "Processing GWL time for model: ACCESS-CM2, ensemble: r4i1p1f1, pathway: ssp126\n"
     ]
    },
    {
     "name": "stderr",
     "output_type": "stream",
     "text": [
      "INFO:flox:Entering _validate_reindex: reindex is None\n",
      "INFO:flox:Leaving _validate_reindex: method = None, returning None\n",
      "INFO:flox:_choose_engine: Choosing 'flox'\n",
      "INFO:flox:_choose_method: method is None\n",
      "INFO:flox:_choose_method: choosing preferred_method=blockwise\n",
      "INFO:flox:Entering _validate_reindex: reindex is None\n",
      "INFO:flox:Leaving _validate_reindex: reindex is False\n",
      "INFO:flox:Entering _validate_reindex: reindex is None\n",
      "INFO:flox:Leaving _validate_reindex: method = None, returning None\n",
      "INFO:flox:_choose_engine: Choosing 'flox'\n",
      "INFO:flox:_choose_method: method is None\n",
      "INFO:flox:_choose_method: choosing preferred_method=blockwise\n",
      "INFO:flox:Entering _validate_reindex: reindex is None\n",
      "INFO:flox:Leaving _validate_reindex: reindex is False\n",
      "INFO:flox:Entering _validate_reindex: reindex is None\n",
      "INFO:flox:Leaving _validate_reindex: method = None, returning None\n"
     ]
    },
    {
     "name": "stdout",
     "output_type": "stream",
     "text": [
      "<xarray.Dataset> Size: 125GB\n",
      "Dimensions:  (lat: 691, lon: 886, time: 51135)\n",
      "Coordinates:\n",
      "  * lat      (lat) float64 6kB -44.5 -44.45 -44.4 -44.35 ... -10.1 -10.05 -10.0\n",
      "  * lon      (lon) float64 7kB 112.0 112.0 112.1 112.2 ... 156.2 156.2 156.2\n",
      "  * time     (time) datetime64[ns] 409kB 1960-01-01T12:00:00 ... 2099-12-31T1...\n",
      "Data variables:\n",
      "    FFDI     (lat, lon, time) float32 125GB dask.array<chunksize=(33, 43, 20089), meta=np.ndarray>\n",
      "year range= 2080,2099 for time\n",
      "Processing period time\n"
     ]
    },
    {
     "name": "stderr",
     "output_type": "stream",
     "text": [
      "INFO:flox:_choose_engine: Choosing 'flox'\n",
      "INFO:flox:_choose_method: method is None\n",
      "INFO:flox:_choose_method: choosing preferred_method=blockwise\n",
      "INFO:flox:Entering _validate_reindex: reindex is None\n",
      "INFO:flox:Leaving _validate_reindex: reindex is False\n",
      "INFO:flox:Entering _validate_reindex: reindex is None\n",
      "INFO:flox:Leaving _validate_reindex: method = None, returning None\n",
      "INFO:flox:_choose_engine: Choosing 'flox'\n",
      "INFO:flox:_choose_method: method is None\n",
      "INFO:flox:_choose_method: choosing preferred_method=blockwise\n",
      "INFO:flox:Entering _validate_reindex: reindex is None\n",
      "INFO:flox:Leaving _validate_reindex: reindex is False\n"
     ]
    },
    {
     "name": "stdout",
     "output_type": "stream",
     "text": [
      "Saved  to /scratch/xv83/rxm599/tmp/AUST-05i_BOM_ACCESS-CM2_ssp126_r4i1p1f1_BARPA-R_v1-r1-ACS-QME-BARRAR2-1980-2022_day_2080-2099_ffdi_threshold.nc\n",
      "/g/data/ia39/catalogues/bias-output/AUST-05i_BOM_ACCESS-CM2_ssp370_r4i1p1f1_BARPA-R_v1-r1-ACS-QME-BARRAR2-1980-2022_day.json\n",
      "2\n",
      "Processing GWL time for model: ACCESS-CM2, ensemble: r4i1p1f1, pathway: ssp370\n"
     ]
    },
    {
     "name": "stderr",
     "output_type": "stream",
     "text": [
      "INFO:flox:Entering _validate_reindex: reindex is None\n",
      "INFO:flox:Leaving _validate_reindex: method = None, returning None\n",
      "INFO:flox:_choose_engine: Choosing 'flox'\n",
      "INFO:flox:_choose_method: method is None\n",
      "INFO:flox:_choose_method: choosing preferred_method=blockwise\n",
      "INFO:flox:Entering _validate_reindex: reindex is None\n",
      "INFO:flox:Leaving _validate_reindex: reindex is False\n",
      "INFO:flox:Entering _validate_reindex: reindex is None\n",
      "INFO:flox:Leaving _validate_reindex: method = None, returning None\n",
      "INFO:flox:_choose_engine: Choosing 'flox'\n",
      "INFO:flox:_choose_method: method is None\n",
      "INFO:flox:_choose_method: choosing preferred_method=blockwise\n",
      "INFO:flox:Entering _validate_reindex: reindex is None\n",
      "INFO:flox:Leaving _validate_reindex: reindex is False\n"
     ]
    },
    {
     "name": "stdout",
     "output_type": "stream",
     "text": [
      "<xarray.Dataset> Size: 125GB\n",
      "Dimensions:  (lat: 691, lon: 886, time: 51135)\n",
      "Coordinates:\n",
      "  * lat      (lat) float64 6kB -44.5 -44.45 -44.4 -44.35 ... -10.1 -10.05 -10.0\n",
      "  * lon      (lon) float64 7kB 112.0 112.0 112.1 112.2 ... 156.2 156.2 156.2\n",
      "  * time     (time) datetime64[ns] 409kB 1960-01-01T12:00:00 ... 2099-12-31T1...\n",
      "Data variables:\n",
      "    FFDI     (lat, lon, time) float32 125GB dask.array<chunksize=(33, 43, 20089), meta=np.ndarray>\n",
      "year range= 2080,2099 for time\n",
      "Processing period time\n"
     ]
    },
    {
     "name": "stderr",
     "output_type": "stream",
     "text": [
      "INFO:flox:Entering _validate_reindex: reindex is None\n",
      "INFO:flox:Leaving _validate_reindex: method = None, returning None\n",
      "INFO:flox:_choose_engine: Choosing 'flox'\n",
      "INFO:flox:_choose_method: method is None\n",
      "INFO:flox:_choose_method: choosing preferred_method=blockwise\n",
      "INFO:flox:Entering _validate_reindex: reindex is None\n",
      "INFO:flox:Leaving _validate_reindex: reindex is False\n",
      "INFO:flox:Entering _validate_reindex: reindex is None\n",
      "INFO:flox:Leaving _validate_reindex: method = None, returning None\n",
      "INFO:flox:_choose_engine: Choosing 'flox'\n",
      "INFO:flox:_choose_method: method is None\n",
      "INFO:flox:_choose_method: choosing preferred_method=blockwise\n",
      "INFO:flox:Entering _validate_reindex: reindex is None\n",
      "INFO:flox:Leaving _validate_reindex: reindex is False\n"
     ]
    },
    {
     "name": "stdout",
     "output_type": "stream",
     "text": [
      "Saved  to /scratch/xv83/rxm599/tmp/AUST-05i_BOM_ACCESS-CM2_ssp370_r4i1p1f1_BARPA-R_v1-r1-ACS-QME-BARRAR2-1980-2022_day_2080-2099_ffdi_threshold.nc\n",
      "/g/data/ia39/catalogues/bias-output/AUST-05i_BOM_ACCESS-ESM1-5_historical_r6i1p1f1_BARPA-R_v1-r1-ACS-QME-BARRAR2-1980-2022_day.json\n",
      "3\n",
      "Processing GWL time for model: ACCESS-ESM1-5, ensemble: r6i1p1f1, pathway: historical\n"
     ]
    },
    {
     "name": "stderr",
     "output_type": "stream",
     "text": [
      "INFO:flox:Entering _validate_reindex: reindex is None\n",
      "INFO:flox:Leaving _validate_reindex: method = None, returning None\n",
      "INFO:flox:_choose_engine: Choosing 'flox'\n",
      "INFO:flox:_choose_method: method is None\n",
      "INFO:flox:_choose_method: choosing preferred_method=blockwise\n",
      "INFO:flox:Entering _validate_reindex: reindex is None\n",
      "INFO:flox:Leaving _validate_reindex: reindex is False\n",
      "INFO:flox:Entering _validate_reindex: reindex is None\n",
      "INFO:flox:Leaving _validate_reindex: method = None, returning None\n",
      "INFO:flox:_choose_engine: Choosing 'flox'\n",
      "INFO:flox:_choose_method: method is None\n",
      "INFO:flox:_choose_method: choosing preferred_method=blockwise\n",
      "INFO:flox:Entering _validate_reindex: reindex is None\n",
      "INFO:flox:Leaving _validate_reindex: reindex is False\n",
      "INFO:flox:Entering _validate_reindex: reindex is None\n"
     ]
    },
    {
     "name": "stdout",
     "output_type": "stream",
     "text": [
      "year range= 1995,2014 for time\n",
      "Processing period time\n"
     ]
    },
    {
     "name": "stderr",
     "output_type": "stream",
     "text": [
      "INFO:flox:Leaving _validate_reindex: method = None, returning None\n",
      "INFO:flox:_choose_engine: Choosing 'flox'\n",
      "INFO:flox:_choose_method: method is None\n",
      "INFO:flox:_choose_method: choosing preferred_method=blockwise\n",
      "INFO:flox:Entering _validate_reindex: reindex is None\n",
      "INFO:flox:Leaving _validate_reindex: reindex is False\n",
      "INFO:flox:Entering _validate_reindex: reindex is None\n",
      "INFO:flox:Leaving _validate_reindex: method = None, returning None\n",
      "INFO:flox:_choose_engine: Choosing 'flox'\n",
      "INFO:flox:_choose_method: method is None\n",
      "INFO:flox:_choose_method: choosing preferred_method=blockwise\n",
      "INFO:flox:Entering _validate_reindex: reindex is None\n",
      "INFO:flox:Leaving _validate_reindex: reindex is False\n"
     ]
    },
    {
     "name": "stdout",
     "output_type": "stream",
     "text": [
      "Saved  to /scratch/xv83/rxm599/tmp/AUST-05i_BOM_ACCESS-ESM1-5_historical_r6i1p1f1_BARPA-R_v1-r1-ACS-QME-BARRAR2-1980-2022_day_1995-2014_ffdi_threshold.nc\n",
      "/g/data/ia39/catalogues/bias-output/AUST-05i_BOM_ACCESS-ESM1-5_ssp126_r6i1p1f1_BARPA-R_v1-r1-ACS-QME-BARRAR2-1980-2022_day.json\n",
      "4\n",
      "Processing GWL time for model: ACCESS-ESM1-5, ensemble: r6i1p1f1, pathway: ssp126\n"
     ]
    },
    {
     "name": "stderr",
     "output_type": "stream",
     "text": [
      "INFO:flox:Entering _validate_reindex: reindex is None\n",
      "INFO:flox:Leaving _validate_reindex: method = None, returning None\n"
     ]
    },
    {
     "name": "stdout",
     "output_type": "stream",
     "text": [
      "<xarray.Dataset> Size: 125GB\n",
      "Dimensions:  (lat: 691, lon: 886, time: 51135)\n",
      "Coordinates:\n",
      "  * lat      (lat) float64 6kB -44.5 -44.45 -44.4 -44.35 ... -10.1 -10.05 -10.0\n",
      "  * lon      (lon) float64 7kB 112.0 112.0 112.1 112.2 ... 156.2 156.2 156.2\n",
      "  * time     (time) datetime64[ns] 409kB 1960-01-01T12:00:00 ... 2099-12-31T1...\n",
      "Data variables:\n",
      "    FFDI     (lat, lon, time) float32 125GB dask.array<chunksize=(33, 43, 20089), meta=np.ndarray>\n",
      "year range= 2080,2099 for time\n",
      "Processing period time\n"
     ]
    },
    {
     "name": "stderr",
     "output_type": "stream",
     "text": [
      "INFO:flox:_choose_engine: Choosing 'flox'\n",
      "INFO:flox:_choose_method: method is None\n",
      "INFO:flox:_choose_method: choosing preferred_method=blockwise\n",
      "INFO:flox:Entering _validate_reindex: reindex is None\n",
      "INFO:flox:Leaving _validate_reindex: reindex is False\n",
      "INFO:flox:Entering _validate_reindex: reindex is None\n",
      "INFO:flox:Leaving _validate_reindex: method = None, returning None\n",
      "INFO:flox:_choose_engine: Choosing 'flox'\n",
      "INFO:flox:_choose_method: method is None\n",
      "INFO:flox:_choose_method: choosing preferred_method=blockwise\n",
      "INFO:flox:Entering _validate_reindex: reindex is None\n",
      "INFO:flox:Leaving _validate_reindex: reindex is False\n",
      "INFO:flox:Entering _validate_reindex: reindex is None\n",
      "INFO:flox:Leaving _validate_reindex: method = None, returning None\n",
      "INFO:flox:_choose_engine: Choosing 'flox'\n",
      "INFO:flox:_choose_method: method is None\n",
      "INFO:flox:_choose_method: choosing preferred_method=blockwise\n",
      "INFO:flox:Entering _validate_reindex: reindex is None\n",
      "INFO:flox:Leaving _validate_reindex: reindex is False\n",
      "INFO:flox:Entering _validate_reindex: reindex is None\n",
      "INFO:flox:Leaving _validate_reindex: method = None, returning None\n",
      "INFO:flox:_choose_engine: Choosing 'flox'\n",
      "INFO:flox:_choose_method: method is None\n",
      "INFO:flox:_choose_method: choosing preferred_method=blockwise\n",
      "INFO:flox:Entering _validate_reindex: reindex is None\n",
      "INFO:flox:Leaving _validate_reindex: reindex is False\n"
     ]
    },
    {
     "name": "stdout",
     "output_type": "stream",
     "text": [
      "Saved  to /scratch/xv83/rxm599/tmp/AUST-05i_BOM_ACCESS-ESM1-5_ssp126_r6i1p1f1_BARPA-R_v1-r1-ACS-QME-BARRAR2-1980-2022_day_2080-2099_ffdi_threshold.nc\n",
      "/g/data/ia39/catalogues/bias-output/AUST-05i_BOM_ACCESS-ESM1-5_ssp370_r6i1p1f1_BARPA-R_v1-r1-ACS-QME-BARRAR2-1980-2022_day.json\n",
      "5\n",
      "Processing GWL time for model: ACCESS-ESM1-5, ensemble: r6i1p1f1, pathway: ssp370\n"
     ]
    },
    {
     "name": "stderr",
     "output_type": "stream",
     "text": [
      "INFO:flox:Entering _validate_reindex: reindex is None\n",
      "INFO:flox:Leaving _validate_reindex: method = None, returning None\n",
      "INFO:flox:_choose_engine: Choosing 'flox'\n",
      "INFO:flox:_choose_method: method is None\n",
      "INFO:flox:_choose_method: choosing preferred_method=blockwise\n",
      "INFO:flox:Entering _validate_reindex: reindex is None\n",
      "INFO:flox:Leaving _validate_reindex: reindex is False\n",
      "INFO:flox:Entering _validate_reindex: reindex is None\n",
      "INFO:flox:Leaving _validate_reindex: method = None, returning None\n",
      "INFO:flox:_choose_engine: Choosing 'flox'\n",
      "INFO:flox:_choose_method: method is None\n",
      "INFO:flox:_choose_method: choosing preferred_method=blockwise\n",
      "INFO:flox:Entering _validate_reindex: reindex is None\n",
      "INFO:flox:Leaving _validate_reindex: reindex is False\n"
     ]
    },
    {
     "name": "stdout",
     "output_type": "stream",
     "text": [
      "<xarray.Dataset> Size: 125GB\n",
      "Dimensions:  (lat: 691, lon: 886, time: 51135)\n",
      "Coordinates:\n",
      "  * lat      (lat) float64 6kB -44.5 -44.45 -44.4 -44.35 ... -10.1 -10.05 -10.0\n",
      "  * lon      (lon) float64 7kB 112.0 112.0 112.1 112.2 ... 156.2 156.2 156.2\n",
      "  * time     (time) datetime64[ns] 409kB 1960-01-01T12:00:00 ... 2099-12-31T1...\n",
      "Data variables:\n",
      "    FFDI     (lat, lon, time) float32 125GB dask.array<chunksize=(33, 43, 20089), meta=np.ndarray>\n",
      "year range= 2080,2099 for time\n",
      "Processing period time\n"
     ]
    },
    {
     "name": "stderr",
     "output_type": "stream",
     "text": [
      "INFO:flox:Entering _validate_reindex: reindex is None\n",
      "INFO:flox:Leaving _validate_reindex: method = None, returning None\n",
      "INFO:flox:_choose_engine: Choosing 'flox'\n",
      "INFO:flox:_choose_method: method is None\n",
      "INFO:flox:_choose_method: choosing preferred_method=blockwise\n",
      "INFO:flox:Entering _validate_reindex: reindex is None\n",
      "INFO:flox:Leaving _validate_reindex: reindex is False\n",
      "INFO:flox:Entering _validate_reindex: reindex is None\n",
      "INFO:flox:Leaving _validate_reindex: method = None, returning None\n",
      "INFO:flox:_choose_engine: Choosing 'flox'\n",
      "INFO:flox:_choose_method: method is None\n",
      "INFO:flox:_choose_method: choosing preferred_method=blockwise\n",
      "INFO:flox:Entering _validate_reindex: reindex is None\n",
      "INFO:flox:Leaving _validate_reindex: reindex is False\n"
     ]
    },
    {
     "name": "stdout",
     "output_type": "stream",
     "text": [
      "Saved  to /scratch/xv83/rxm599/tmp/AUST-05i_BOM_ACCESS-ESM1-5_ssp370_r6i1p1f1_BARPA-R_v1-r1-ACS-QME-BARRAR2-1980-2022_day_2080-2099_ffdi_threshold.nc\n",
      "/g/data/ia39/catalogues/bias-output/AUST-05i_BOM_CESM2_historical_r11i1p1f1_BARPA-R_v1-r1-ACS-QME-BARRAR2-1980-2022_day.json\n",
      "6\n",
      "Processing GWL time for model: CESM2, ensemble: r11i1p1f1, pathway: historical\n"
     ]
    },
    {
     "name": "stderr",
     "output_type": "stream",
     "text": [
      "INFO:flox:Entering _validate_reindex: reindex is None\n",
      "INFO:flox:Leaving _validate_reindex: method = None, returning None\n",
      "INFO:flox:_choose_engine: Choosing 'flox'\n",
      "INFO:flox:_choose_method: method is None\n",
      "INFO:flox:_choose_method: choosing preferred_method=blockwise\n",
      "INFO:flox:Entering _validate_reindex: reindex is None\n",
      "INFO:flox:Leaving _validate_reindex: reindex is False\n",
      "INFO:flox:Entering _validate_reindex: reindex is None\n",
      "INFO:flox:Leaving _validate_reindex: method = None, returning None\n",
      "INFO:flox:_choose_engine: Choosing 'flox'\n",
      "INFO:flox:_choose_method: method is None\n",
      "INFO:flox:_choose_method: choosing preferred_method=blockwise\n",
      "INFO:flox:Entering _validate_reindex: reindex is None\n",
      "INFO:flox:Leaving _validate_reindex: reindex is False\n",
      "INFO:flox:Entering _validate_reindex: reindex is None\n",
      "INFO:flox:Leaving _validate_reindex: method = None, returning None\n",
      "INFO:flox:_choose_engine: Choosing 'flox'\n",
      "INFO:flox:_choose_method: method is None\n",
      "INFO:flox:_choose_method: choosing preferred_method=blockwise\n",
      "INFO:flox:Entering _validate_reindex: reindex is None\n",
      "INFO:flox:Leaving _validate_reindex: reindex is False\n",
      "INFO:flox:Entering _validate_reindex: reindex is None\n",
      "INFO:flox:Leaving _validate_reindex: method = None, returning None\n"
     ]
    },
    {
     "name": "stdout",
     "output_type": "stream",
     "text": [
      "year range= 1995,2014 for time\n",
      "Processing period time\n"
     ]
    },
    {
     "name": "stderr",
     "output_type": "stream",
     "text": [
      "INFO:flox:_choose_engine: Choosing 'flox'\n",
      "INFO:flox:_choose_method: method is None\n",
      "INFO:flox:_choose_method: choosing preferred_method=blockwise\n",
      "INFO:flox:Entering _validate_reindex: reindex is None\n",
      "INFO:flox:Leaving _validate_reindex: reindex is False\n"
     ]
    },
    {
     "name": "stdout",
     "output_type": "stream",
     "text": [
      "Saved  to /scratch/xv83/rxm599/tmp/AUST-05i_BOM_CESM2_historical_r11i1p1f1_BARPA-R_v1-r1-ACS-QME-BARRAR2-1980-2022_day_1995-2014_ffdi_threshold.nc\n",
      "/g/data/ia39/catalogues/bias-output/AUST-05i_BOM_CESM2_ssp126_r11i1p1f1_BARPA-R_v1-r1-ACS-QME-BARRAR2-1980-2022_day.json\n",
      "7\n",
      "Processing GWL time for model: CESM2, ensemble: r11i1p1f1, pathway: ssp126\n"
     ]
    },
    {
     "name": "stderr",
     "output_type": "stream",
     "text": [
      "INFO:flox:Entering _validate_reindex: reindex is None\n",
      "INFO:flox:Leaving _validate_reindex: method = None, returning None\n",
      "INFO:flox:_choose_engine: Choosing 'flox'\n",
      "INFO:flox:_choose_method: method is None\n",
      "INFO:flox:_choose_method: choosing preferred_method=blockwise\n",
      "INFO:flox:Entering _validate_reindex: reindex is None\n",
      "INFO:flox:Leaving _validate_reindex: reindex is False\n"
     ]
    },
    {
     "name": "stdout",
     "output_type": "stream",
     "text": [
      "<xarray.Dataset> Size: 125GB\n",
      "Dimensions:  (lat: 691, lon: 886, time: 51100)\n",
      "Coordinates:\n",
      "  * lat      (lat) float64 6kB -44.5 -44.45 -44.4 -44.35 ... -10.1 -10.05 -10.0\n",
      "  * lon      (lon) float64 7kB 112.0 112.0 112.1 112.2 ... 156.2 156.2 156.2\n",
      "  * time     (time) object 409kB 1960-01-01 12:00:00 ... 2099-12-31 12:00:00\n",
      "Data variables:\n",
      "    FFDI     (lat, lon, time) float32 125GB dask.array<chunksize=(33, 43, 20075), meta=np.ndarray>\n",
      "year range= 2080,2099 for time\n",
      "Processing period time\n"
     ]
    },
    {
     "name": "stderr",
     "output_type": "stream",
     "text": [
      "INFO:flox:Entering _validate_reindex: reindex is None\n",
      "INFO:flox:Leaving _validate_reindex: method = None, returning None\n",
      "INFO:flox:_choose_engine: Choosing 'flox'\n",
      "INFO:flox:_choose_method: method is None\n",
      "INFO:flox:_choose_method: choosing preferred_method=blockwise\n",
      "INFO:flox:Entering _validate_reindex: reindex is None\n",
      "INFO:flox:Leaving _validate_reindex: reindex is False\n",
      "INFO:flox:Entering _validate_reindex: reindex is None\n",
      "INFO:flox:Leaving _validate_reindex: method = None, returning None\n",
      "INFO:flox:_choose_engine: Choosing 'flox'\n",
      "INFO:flox:_choose_method: method is None\n",
      "INFO:flox:_choose_method: choosing preferred_method=blockwise\n",
      "INFO:flox:Entering _validate_reindex: reindex is None\n",
      "INFO:flox:Leaving _validate_reindex: reindex is False\n",
      "INFO:flox:Entering _validate_reindex: reindex is None\n",
      "INFO:flox:Leaving _validate_reindex: method = None, returning None\n",
      "INFO:flox:_choose_engine: Choosing 'flox'\n",
      "INFO:flox:_choose_method: method is None\n",
      "INFO:flox:_choose_method: choosing preferred_method=blockwise\n",
      "INFO:flox:Entering _validate_reindex: reindex is None\n",
      "INFO:flox:Leaving _validate_reindex: reindex is False\n"
     ]
    },
    {
     "name": "stdout",
     "output_type": "stream",
     "text": [
      "Saved  to /scratch/xv83/rxm599/tmp/AUST-05i_BOM_CESM2_ssp126_r11i1p1f1_BARPA-R_v1-r1-ACS-QME-BARRAR2-1980-2022_day_2080-2099_ffdi_threshold.nc\n"
     ]
    }
   ],
   "source": [
    "%%time\n",
    "def main():\n",
    "    warnings.filterwarnings('ignore')\n",
    "# start dask client\n",
    "    client = setup_dask_client()\n",
    "    qtype='adjust'\n",
    "    kind='QME-BARRAR2'\n",
    "#    kind='EC-Earth3-Veg'\n",
    "# iterate through all modesl\n",
    "    if is_interactive():\n",
    "        print(f\"Dashboard available at: {client.dashboard_link}\")\n",
    "    else:\n",
    "        print(argv)\n",
    "        print(argv)\n",
    "# raw or adjust\n",
    "        qtype=argv[1]\n",
    "        kind=argv[2]\n",
    "\n",
    "    if qtype == 'raw' :\n",
    "        catalogue_path = '/g/data/ia39/catalogues/bias-input'\n",
    "        path_ffdi='/g/data/ia39/ncra/fire/bias-input/ffdi/'\n",
    "    elif qtype == 'adjust' :\n",
    "        catalogue_path = '/g/data/ia39/catalogues/bias-output'\n",
    "        path_ffdi='/g/data/ia39/ncra/fire/bias-output/ffdi/'\n",
    "        \n",
    "# get RCMs to processes\n",
    "#    mRuns = sorted(glob.glob(catalogue_path + '/*ssp126*.json'))\n",
    "    mRuns = sorted(glob.glob(catalogue_path + '/*'+kind+'*.json'))\n",
    "    print(len(mRuns))\n",
    "        \n",
    "    print(mRuns)\n",
    "    for mindex, file in enumerate(mRuns):\n",
    "        print(file)\n",
    "        model_name, RCM, GCM, ensemble, pathway = extract_model_info(file)\n",
    "        var='FFDI'  # not used\n",
    "        if mindex != 991:         #this model failed to convert\n",
    "            print (mindex)\n",
    "            d4=process_GWL_levels(path_ffdi,model_name[0],GCM,ensemble,pathway,var)\n",
    "    \n",
    "    print(\"Processing of all catalogues is complete.\")\n",
    "\n",
    "    print(f\"close client {client}\")\n",
    "    client.close()\n",
    "\n",
    "if __name__ == \"__main__\":\n",
    "    main()"
   ]
  },
  {
   "cell_type": "code",
   "execution_count": null,
   "id": "b969a582-0176-4617-83e7-f91fc70ebc2c",
   "metadata": {},
   "outputs": [],
   "source": []
  }
 ],
 "metadata": {
  "kernelspec": {
   "display_name": "Python [conda env:analysis3]",
   "language": "python",
   "name": "conda-env-analysis3-py"
  },
  "language_info": {
   "codemirror_mode": {
    "name": "ipython",
    "version": 3
   },
   "file_extension": ".py",
   "mimetype": "text/x-python",
   "name": "python",
   "nbconvert_exporter": "python",
   "pygments_lexer": "ipython3",
   "version": "3.10.14"
  }
 },
 "nbformat": 4,
 "nbformat_minor": 5
}
