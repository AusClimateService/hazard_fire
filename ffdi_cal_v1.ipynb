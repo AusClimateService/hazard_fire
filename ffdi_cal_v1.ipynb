{
 "cells": [
  {
   "cell_type": "markdown",
   "id": "a3c7829f-9399-4bfb-adf4-63851ba5fba2",
   "metadata": {},
   "source": [
    "# DEMO \n",
    "\n",
    "Example code to compute FFDI from a zarr store of one of RCM simulations\n",
    "\n",
    "To fix\n",
    "\n",
    "The code reads the intake catalogues of the SSP370 runs to get a list of models to process.  This is not necessary but it is a convenient way to get a list of all the files to process\n",
    "\n",
    "Added the code process all the files in the search \n",
    "\n",
    "only works with module load conda/analysis3-23.10 because of problem with units in DF call (out needs?)\n"
   ]
  },
  {
   "cell_type": "markdown",
   "id": "1f41a28d-7966-420a-a2ba-5bb53ada1d9c",
   "metadata": {},
   "source": [
    "#### required packages"
   ]
  },
  {
   "cell_type": "code",
   "execution_count": null,
   "id": "dbfd2435-2231-4a62-aa70-d5fd531a259d",
   "metadata": {},
   "outputs": [],
   "source": [
    "import intake\n",
    "import xarray as xr\n",
    "from matplotlib import pyplot as plt\n",
    "\n",
    "import glob\n",
    "import pathlib\n",
    "import traceback\n",
    "from datetime import datetime\n",
    "\n",
    "from xclim.indices import (\n",
    "    keetch_byram_drought_index,\n",
    "    griffiths_drought_factor,\n",
    "    mcarthur_forest_fire_danger_index\n",
    ")\n"
   ]
  },
  {
   "cell_type": "markdown",
   "id": "e25d9c26-ad00-4e0a-b8dc-6fcfb15cfc71",
   "metadata": {},
   "source": [
    "#### start a local Dask client"
   ]
  },
  {
   "cell_type": "code",
   "execution_count": null,
   "id": "97accd08-fd64-47e2-b870-ed24ff71ad9e",
   "metadata": {
    "tags": []
   },
   "outputs": [],
   "source": [
    "from dask.distributed import Client\n",
    "import dask\n",
    "\n",
    "# Set configuration options\n",
    "dask.config.set({\n",
    "    'distributed.comm.timeouts.connect': '90s',  # Timeout for connecting to a worker\n",
    "    'distributed.comm.timeouts.tcp': '90s',  # Timeout for TCP communications\n",
    "})\n",
    "\n",
    "from dask.distributed import Client\n",
    "client = Client()\n",
    "client"
   ]
  },
  {
   "cell_type": "markdown",
   "id": "8935960c-d1ab-4b85-8bc4-e2b41de3e910",
   "metadata": {},
   "source": [
    "#### ignore warnings"
   ]
  },
  {
   "cell_type": "code",
   "execution_count": null,
   "id": "701040b6-201d-4bd9-be1d-2881778a7605",
   "metadata": {
    "tags": []
   },
   "outputs": [],
   "source": [
    "import warnings\n",
    "warnings.filterwarnings('ignore')"
   ]
  },
  {
   "cell_type": "markdown",
   "id": "cba541bb-f13a-4906-8f16-2898124289b5",
   "metadata": {},
   "source": [
    "## Obtain the desired catalogues of the simulations to processe"
   ]
  },
  {
   "cell_type": "code",
   "execution_count": null,
   "id": "235c1492-f47f-4082-b22c-ae3b1bc5a8f2",
   "metadata": {},
   "outputs": [],
   "source": [
    "catalogue_path='/g/data/ia39/catalogues'\n",
    "mRuns = sorted(glob.glob(catalogue_path+'/*ssp370*.json'))\n",
    "mRuns = sorted(glob.glob(catalogue_path+'/*BARRA*.json'))\n",
    "print(len(mRuns))"
   ]
  },
  {
   "cell_type": "code",
   "execution_count": null,
   "id": "6e45c048-784c-4f98-a117-dd0aa67ff068",
   "metadata": {},
   "outputs": [],
   "source": [
    "# test loading all the catalogues of the data\n",
    "for file in mRuns: \n",
    "    print(file)\n",
    "    cat1=intake.open_esm_datastore(file)"
   ]
  },
  {
   "cell_type": "markdown",
   "id": "1f7dc83b-7674-4a09-aa4b-3ffd0ec32602",
   "metadata": {},
   "source": [
    "# Process one ensemble "
   ]
  },
  {
   "cell_type": "code",
   "execution_count": null,
   "id": "7cef7866-d897-45f2-b6ca-61a1d12e386d",
   "metadata": {},
   "outputs": [],
   "source": [
    "# From one catalogue list save variables\n",
    "mindex=0  # run to process now set a start\n",
    "mtmp=mRuns[mindex].split('/')\n",
    "model_name=mtmp[5].split('.')\n",
    "print(model_name)\n",
    "tmp=model_name[0].split('_'); ACS_model=tmp[1]\n",
    "\n",
    "# now match extract RCM_GCM info \n",
    "match=tmp[1]+'_'+tmp[2]\n",
    "print(match)"
   ]
  },
  {
   "cell_type": "code",
   "execution_count": null,
   "id": "f4b0f939-c1da-4cc9-9e43-8c22ae6ff6cf",
   "metadata": {},
   "outputs": [],
   "source": [
    "%%time\n",
    "# read in the historical catalogue to compute \n",
    "# will modified to use the same Zarr collection\n",
    "if match != \"BOM_ERA5\": \n",
    "    catalogue_path='/g/data/ia39/catalogues'\n",
    "    mHis = sorted(glob.glob(catalogue_path+'/*'+match+'*hist*.json'))\n",
    "    print(len(mHis))\n",
    "    print(mHis[0])\n",
    "    cat1=intake.open_esm_datastore(mHis[0])\n",
    "    pr_his = cat1.search(variable={'pr'}).to_dask(cdf_kwargs={'chunks': {'time': 365, 'lat': 691, 'lon': 886}})\n",
    "    pr_his\n",
    "# This is usually computed over a specific period\n",
    "    pr_annual = pr_his.pr.resample(time=\"Y\").sum().\\\n",
    "        sel(time=slice('1985-01-01', '2015-01-01')).mean(\"time\").\\\n",
    "        assign_attrs(\n",
    "        units=\"mm a-1\", long_name=\"Annual average rainfall\")\n",
    "    pr_annual.load()\n",
    "    plt.subplot(2,2,1); pr_annual.plot()\n"
   ]
  },
  {
   "cell_type": "code",
   "execution_count": null,
   "id": "6818e736-8c93-4b12-8f0c-e9c4df688891",
   "metadata": {},
   "outputs": [],
   "source": [
    "#AGCD-05i_CSIRO_EC-Earth3_ssp370_r1i1p1f1_CCAM-v2203-SN_v1-r1_day.zarr/\n",
    "dir='/scratch/xv83/rxm599/'\n",
    "file=dir+model_name[0]+'.zarr'\n",
    "print(file)\n",
    "ds0 = xr.open_zarr(file)\n",
    "ds0\n",
    "\n",
    "if match == 'BOM_ERA5':  # This is usually computed over a specific period\n",
    "    pr_annual = ds0.pr.resample(time=\"Y\").sum().\\\n",
    "        sel(time=slice('1985-01-01', '2015-01-01')).mean(\"time\").\\\n",
    "        assign_attrs( units=\"mm a-1\", long_name=\"Annual average rainfall\")\n",
    "\n",
    "pr_annual.load()\n",
    "pr_annual.plot()\n"
   ]
  },
  {
   "cell_type": "markdown",
   "id": "a6a9d5ae-fe32-45d2-9af6-6d13ea3ac988",
   "metadata": {},
   "source": [
    "# Compute FFDI"
   ]
  },
  {
   "cell_type": "code",
   "execution_count": null,
   "id": "eae5895a-4024-4563-b294-906233fb2309",
   "metadata": {},
   "outputs": [],
   "source": [
    "def calculate_ffdi(pra, tasmaxa, pr_annual, hursmina, sfcWindmaxa):\n",
    "    KBDI = keetch_byram_drought_index(pra, tasmaxa, pr_annual)\n",
    "    DF = griffiths_drought_factor(pra, KBDI)\n",
    "    FFDI = mcarthur_forest_fire_danger_index(DF, tasmaxa, hursmina, sfcWindmaxa)\n",
    "    return FFDI.to_dataset(name='FFDI')"
   ]
  },
  {
   "cell_type": "code",
   "execution_count": null,
   "id": "f2681f0e-885a-401a-8222-ce5a20168064",
   "metadata": {},
   "outputs": [],
   "source": [
    "t1='1975-01-01'; t2='2099-12-31'\n",
    "pra=ds0.pr.sel(time=slice(t1, t2))\n",
    "tasmaxa=ds0.tasmax.sel(time=slice(t1,t2))\n",
    "hursmina=ds0.hursmin.sel(time=slice(t1,t2))\n",
    "sfcWindmaxa=ds0.sfcWindmax.sel(time=slice(t1,t2))\n",
    "\n",
    "KBDI = keetch_byram_drought_index(pra, tasmaxa, pr_annual) \n",
    "DF = griffiths_drought_factor(pra, KBDI)\n",
    "FFDI = mcarthur_forest_fire_danger_index(DF, tasmaxa, hursmina, sfcWindmaxa)\n",
    "ds = FFDI.to_dataset(name='FFDI')"
   ]
  },
  {
   "cell_type": "code",
   "execution_count": null,
   "id": "4e01c3d9-5085-4e2f-ae70-6c8faf1aa977",
   "metadata": {},
   "outputs": [],
   "source": [
    "%%time\n",
    "ds.to_zarr('/g/data/ia39/ncra/fire/'+model_name[0]+'_FFDI.zar',mode='w')\n",
    "#tar -czvf compressed_zarr_store.tar.gz /path/to/zarr_store"
   ]
  },
  {
   "cell_type": "markdown",
   "id": "fdfc8ca5-7623-4416-84b2-dc9d9dcb55ce",
   "metadata": {},
   "source": [
    "## End here for BARRA"
   ]
  },
  {
   "cell_type": "markdown",
   "id": "8d8b0de6-ddb3-4820-85c4-c5e70ac2a9be",
   "metadata": {},
   "source": [
    "## Check the output"
   ]
  },
  {
   "cell_type": "code",
   "execution_count": null,
   "id": "ea9e8fa9-937e-4394-af84-62bd3c394555",
   "metadata": {},
   "outputs": [],
   "source": [
    "# First 20 points are nan due to the way DI is computed (see XCLIM)\n",
    "ds1=xr.open_zarr('/g/data/ia39/ncra/fire/'+model_name[0]+'_FFDI.zarr')\n",
    "ds1.FFDI.isel(time=slice(19,None)).max('time',skipna=False).plot()\n",
    "#ds1.FFDI.isel(lon=200,lat=300).plot()"
   ]
  },
  {
   "cell_type": "code",
   "execution_count": null,
   "id": "90f03570-34a5-4b8c-bb42-d0aa2bfd0dec",
   "metadata": {},
   "outputs": [],
   "source": [
    "data=ds1.FFDI\n",
    "d3=(data > 100 ).groupby('time.year').sum('time').to_dataset(name='days100')"
   ]
  },
  {
   "cell_type": "code",
   "execution_count": null,
   "id": "9fefd6d0-74d3-4572-beec-1c107721794c",
   "metadata": {},
   "outputs": [],
   "source": [
    "plt.subplot(2,2,1); d3.days100.mean('year').plot(levels=10)\n",
    "plt.subplot(2,2,2); d3.days100.std('year').plot(levels=10)\n",
    "plt.subplot(2,2,3); d3.days100.max('year').plot(levels=10)"
   ]
  },
  {
   "cell_type": "code",
   "execution_count": null,
   "id": "628edcd8-a2eb-4ce1-9bed-6a56bdccaa55",
   "metadata": {},
   "outputs": [],
   "source": []
  },
  {
   "cell_type": "code",
   "execution_count": null,
   "id": "e7973c36-522d-493d-a23f-a899a1e4acec",
   "metadata": {},
   "outputs": [],
   "source": []
  },
  {
   "cell_type": "code",
   "execution_count": null,
   "id": "b0b249ef-7fa3-4ebd-93dd-9260fefcfe22",
   "metadata": {},
   "outputs": [],
   "source": [
    "client.shutdown()"
   ]
  },
  {
   "cell_type": "code",
   "execution_count": null,
   "id": "f0b1a6ea-5f97-4940-9701-0f998e98e5b3",
   "metadata": {},
   "outputs": [],
   "source": []
  },
  {
   "cell_type": "code",
   "execution_count": null,
   "id": "cc733f88-9c73-45e8-a98f-1eefc4c7748a",
   "metadata": {},
   "outputs": [],
   "source": []
  }
 ],
 "metadata": {
  "jupytext": {
   "formats": "ipynb,auto:light"
  },
  "kernelspec": {
   "display_name": "Python 3 (ipykernel)",
   "language": "python",
   "name": "python3"
  },
  "language_info": {
   "codemirror_mode": {
    "name": "ipython",
    "version": 3
   },
   "file_extension": ".py",
   "mimetype": "text/x-python",
   "name": "python",
   "nbconvert_exporter": "python",
   "pygments_lexer": "ipython3",
   "version": "3.10.13"
  }
 },
 "nbformat": 4,
 "nbformat_minor": 5
}
