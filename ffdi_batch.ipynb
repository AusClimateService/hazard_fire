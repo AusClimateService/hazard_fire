{
 "cells": [
  {
   "cell_type": "markdown",
   "id": "ecc845d0-4b7b-4735-844f-0257d1b5de3c",
   "metadata": {},
   "source": [
    "# Batch code to compute ffdi and kdbi\n"
   ]
  },
  {
   "cell_type": "code",
   "execution_count": 1,
   "id": "abfbb18a-0a14-4bee-9828-094a12462b44",
   "metadata": {
    "execution": {
     "iopub.execute_input": "2025-03-11T04:09:09.491361Z",
     "iopub.status.busy": "2025-03-11T04:09:09.490891Z",
     "iopub.status.idle": "2025-03-11T04:10:41.547471Z",
     "shell.execute_reply": "2025-03-11T04:10:41.545453Z",
     "shell.execute_reply.started": "2025-03-11T04:09:09.491312Z"
    }
   },
   "outputs": [],
   "source": [
    "import intake\n",
    "import xarray as xr\n",
    "from matplotlib import pyplot as plt\n",
    "import glob\n",
    "import warnings\n",
    "from sys import argv\n",
    "from datetime import datetime\n",
    "from rechunker import rechunk\n",
    "from xclim.indices import (\n",
    "    keetch_byram_drought_index,\n",
    "    griffiths_drought_factor,\n",
    "    mcarthur_forest_fire_danger_index\n",
    ")\n",
    "from dask.distributed import Client\n",
    "import dask"
   ]
  },
  {
   "cell_type": "code",
   "execution_count": 2,
   "id": "9798b064-d93a-4b9b-927c-3b2c6a43e39b",
   "metadata": {
    "execution": {
     "iopub.execute_input": "2025-03-11T04:10:41.551830Z",
     "iopub.status.busy": "2025-03-11T04:10:41.551270Z",
     "iopub.status.idle": "2025-03-11T04:10:41.560085Z",
     "shell.execute_reply": "2025-03-11T04:10:41.558687Z",
     "shell.execute_reply.started": "2025-03-11T04:10:41.551772Z"
    }
   },
   "outputs": [],
   "source": [
    "def setup_dask_client():\n",
    "# Set configuration options\n",
    "    dask.config.set({\n",
    "    'distributed.comm.timeouts.connect': '90s',  # Timeout for connecting to a worker\n",
    "    'distributed.comm.timeouts.tcp': '90s',  # Timeout for TCP communications\n",
    "    })\n",
    "    client = Client()\n",
    "    return client"
   ]
  },
  {
   "cell_type": "code",
   "execution_count": 3,
   "id": "56083a9a-66d8-4d90-b0b5-e4ed0050b1a1",
   "metadata": {
    "execution": {
     "iopub.execute_input": "2025-03-11T04:10:41.562529Z",
     "iopub.status.busy": "2025-03-11T04:10:41.562024Z",
     "iopub.status.idle": "2025-03-11T04:10:41.579199Z",
     "shell.execute_reply": "2025-03-11T04:10:41.577950Z",
     "shell.execute_reply.started": "2025-03-11T04:10:41.562479Z"
    }
   },
   "outputs": [],
   "source": [
    "def load_catalogue(catalogue_path,type):\n",
    "# type = ssp126 hist ssp370 ERA ...\n",
    "    mRuns = sorted(glob.glob(catalogue_path+'/*'+type+'*.json'))\n",
    "    return mRuns"
   ]
  },
  {
   "cell_type": "code",
   "execution_count": 4,
   "id": "fa7ff6d8-2085-4964-ad77-17d70e3f5058",
   "metadata": {
    "execution": {
     "iopub.execute_input": "2025-03-11T04:10:41.581394Z",
     "iopub.status.busy": "2025-03-11T04:10:41.580906Z",
     "iopub.status.idle": "2025-03-11T04:10:41.594331Z",
     "shell.execute_reply": "2025-03-11T04:10:41.593191Z",
     "shell.execute_reply.started": "2025-03-11T04:10:41.581345Z"
    }
   },
   "outputs": [],
   "source": [
    "def extract_model_info(file):\n",
    "    model_name = file.split('/')[-1].split('.')\n",
    "    tmp = model_name[0].split('_')\n",
    "    ACS_model = tmp[1]\n",
    "    match = f\"{tmp[1]}_{tmp[2]}\"\n",
    "    return model_name[0], match"
   ]
  },
  {
   "cell_type": "code",
   "execution_count": 5,
   "id": "7e3e9061-1e90-4293-9aa7-a2dd956705e3",
   "metadata": {
    "execution": {
     "iopub.execute_input": "2025-03-11T04:10:41.598585Z",
     "iopub.status.busy": "2025-03-11T04:10:41.598103Z",
     "iopub.status.idle": "2025-03-11T04:10:41.614759Z",
     "shell.execute_reply": "2025-03-11T04:10:41.613669Z",
     "shell.execute_reply.started": "2025-03-11T04:10:41.598538Z"
    }
   },
   "outputs": [],
   "source": [
    "    \n",
    "def compute_rainfall(match,qtype,dir):\n",
    "    # read in the historical catalogue to compute \n",
    "    catalogue_path='/scratch/xv83/rxm599/nobiascor'\n",
    "    catalogue_path=dir\n",
    "    mHis = sorted(glob.glob(catalogue_path+'/*'+match+'*hist*.zarr'))\n",
    "    print('historical datalen',len(mHis))\n",
    "    print('historical file', mHis[0])\n",
    "    dcat=xr.open_zarr(mHis[0])\n",
    "    \n",
    "    if qtype == 'raw' : \n",
    "        pr_his = dcat.pr\n",
    "    elif qtype == 'adjust' : \n",
    "        pr_his = dcat.prAdjust\n",
    "    pr_his\n",
    "    \n",
    "    # This is usually computed over a specific period\n",
    "    #pr_annual = dsets.pr.resample(time=\"A\").sum().mean(\"time\")\n",
    "    pr_annual = pr_his.resample(time=\"Y\").sum().\\\n",
    "        sel(time=slice('1985-01-01', '2015-01-01')).mean(\"time\").\\\n",
    "        assign_attrs(\n",
    "        units=\"mm a-1\", long_name=\"Annual average rainfall\")\n",
    "    pr_annual.load()\n",
    "    return pr_annual"
   ]
  },
  {
   "cell_type": "code",
   "execution_count": 6,
   "id": "99f041d7-572d-4966-959f-a76cc58c8393",
   "metadata": {
    "execution": {
     "iopub.execute_input": "2025-03-11T04:10:41.616459Z",
     "iopub.status.busy": "2025-03-11T04:10:41.616099Z",
     "iopub.status.idle": "2025-03-11T04:10:41.629359Z",
     "shell.execute_reply": "2025-03-11T04:10:41.628347Z",
     "shell.execute_reply.started": "2025-03-11T04:10:41.616424Z"
    }
   },
   "outputs": [],
   "source": [
    "def open_zarr_file(dir, model_name):\n",
    "    file = f\"{dir}{model_name}.zarr\"\n",
    "    return xr.open_zarr(file)\n",
    "    \n",
    "def open_zarr_files(dir, model_name,match):\n",
    "# add the end of historical simulation to the projection dataset to get FFDI values for start of projection\n",
    "    mHis = sorted(glob.glob(dir+'/*'+match+'*hist*.zarr'))\n",
    "    print('model_name = ', model_name)\n",
    "    print('historical datalen = ',len(mHis))\n",
    "    print('historical file = ', mHis[0])\n",
    "    dhis=xr.open_zarr(mHis[0])\n",
    "    dhisa=dhis.sel(time=slice('2014-12-12', '2015-01-01'))\n",
    "    \n",
    "    file = f\"{dir}{model_name}.zarr\"\n",
    "    ds= xr.open_zarr(file)\n",
    "#\n",
    "    dsa=xr.concat([dhisa,ds],dim='time')\n",
    "    dsall=dsa.chunk({\"time\": len(dsa.time)}) #, \"lat\": 33, \"lon\": 43})\n",
    "    return dsall"
   ]
  },
  {
   "cell_type": "code",
   "execution_count": 7,
   "id": "e9de69e0-75c7-401e-ba8d-6f856e4cbdf8",
   "metadata": {
    "execution": {
     "iopub.execute_input": "2025-03-11T04:10:41.630873Z",
     "iopub.status.busy": "2025-03-11T04:10:41.630452Z",
     "iopub.status.idle": "2025-03-11T04:10:41.642725Z",
     "shell.execute_reply": "2025-03-11T04:10:41.641588Z",
     "shell.execute_reply.started": "2025-03-11T04:10:41.630841Z"
    }
   },
   "outputs": [],
   "source": [
    "def calculate_ffdi(pra, tasmaxa, pr_annual, hursmina, sfcWindmaxa):\n",
    "    KBDI = keetch_byram_drought_index(pra, tasmaxa, pr_annual)\n",
    "    DF = griffiths_drought_factor(pra, KBDI)\n",
    "    FFDI = mcarthur_forest_fire_danger_index(DF, tasmaxa, hursmina, sfcWindmaxa)\n",
    "    return FFDI.to_dataset(name='FFDI'), KBDI.to_dataset(name='KBDI')"
   ]
  },
  {
   "cell_type": "code",
   "execution_count": 8,
   "id": "db0c1e51-8e5b-44da-ad32-fcddcdaddc7c",
   "metadata": {
    "execution": {
     "iopub.execute_input": "2025-03-11T04:10:41.652766Z",
     "iopub.status.busy": "2025-03-11T04:10:41.652438Z",
     "iopub.status.idle": "2025-03-11T04:10:41.658251Z",
     "shell.execute_reply": "2025-03-11T04:10:41.657075Z",
     "shell.execute_reply.started": "2025-03-11T04:10:41.652733Z"
    }
   },
   "outputs": [],
   "source": [
    "def save_ffdi_dataset(ds1,ds2, model_name):\n",
    "    out1 = f'/scratch/xv83/rxm599/ffdi/{model_name}_FFDI.zarr'\n",
    "    out2 = f'/scratch/xv83/rxm599/ffdi/{model_name}_KBDI.zarr'\n",
    "    ds2.to_zarr(out2, mode='w')\n",
    "    ds1.to_zarr(out1, mode='w')\n",
    "    return out1"
   ]
  },
  {
   "cell_type": "code",
   "execution_count": 9,
   "id": "6d096047-5b61-4bb2-9a2f-ad3719f34408",
   "metadata": {
    "execution": {
     "iopub.execute_input": "2025-03-11T04:10:41.659748Z",
     "iopub.status.busy": "2025-03-11T04:10:41.659416Z",
     "iopub.status.idle": "2025-03-11T04:10:41.674070Z",
     "shell.execute_reply": "2025-03-11T04:10:41.672836Z",
     "shell.execute_reply.started": "2025-03-11T04:10:41.659715Z"
    }
   },
   "outputs": [],
   "source": [
    "def plot_ffdi(output_path):\n",
    "    ds1 = xr.open_zarr(output_path)\n",
    "    ds1.FFDI.isel(time=slice(19, None)).max('time', skipna=False).plot()\n",
    "    ds1"
   ]
  },
  {
   "cell_type": "code",
   "execution_count": 10,
   "id": "79b01d22-0b9d-4d76-bdec-701ff6e4bb5d",
   "metadata": {
    "execution": {
     "iopub.execute_input": "2025-03-11T04:10:41.678916Z",
     "iopub.status.busy": "2025-03-11T04:10:41.678564Z",
     "iopub.status.idle": "2025-03-11T04:10:41.685192Z",
     "shell.execute_reply": "2025-03-11T04:10:41.684003Z",
     "shell.execute_reply.started": "2025-03-11T04:10:41.678882Z"
    },
    "scrolled": true
   },
   "outputs": [],
   "source": [
    "# Example code to read from command line if not interactive (just make the cell code)\n",
    "def is_interactive():\n",
    "    import __main__ as main\n",
    "    return not hasattr(main, '__file__')\n"
   ]
  },
  {
   "cell_type": "code",
   "execution_count": null,
   "id": "cdaf9664-414b-4805-8d81-9ab790d7682a",
   "metadata": {},
   "outputs": [],
   "source": [
    "def main():\n",
    "    \n",
    "    warnings.filterwarnings('ignore')\n",
    "#    client.shutdown()\n",
    "\n",
    "    client = setup_dask_client()\n",
    "    if is_interactive():\n",
    "        qtype='raw'  # raw uncorrected data\n",
    "        qtype='adjust'  # bias corrected data (only applied to QME at present)\n",
    "        kind='NSW-G'\n",
    "        runs=range (24,50,1)\n",
    "        print(f\"Dashboard available at: {client.dashboard_link}\")\n",
    "    else:\n",
    "        print(argv)\n",
    "# raw or adjust\n",
    "        qtype=argv[1]\n",
    "        kind=argv[2]\n",
    "        ss=argv[3:]\n",
    "        print(ss)\n",
    "        params = [int(i) for i in ss]\n",
    "        runs=range(params[0],params[1],params[2])\n",
    "    print (runs) \n",
    "\n",
    "    if qtype == 'raw' :\n",
    "        catalogue_path = '/g/data/ia39/catalogues/bias-input'\n",
    "        dir = '/scratch/xv83/rxm599/nobiascor/'\n",
    "        target_store_base = \"/scratch/xv83/rxm599/ffdi\"\n",
    "    elif qtype == 'adjust' :\n",
    "        catalogue_path = '/g/data/ia39/catalogues/bias-output'\n",
    "        dir = '/scratch/xv83/rxm599/biascor/'\n",
    "        target_store_base = \"/scratch/xv83/rxm599/ffdi\"\n",
    "    \n",
    "\n",
    "    mRuns = load_catalogue(catalogue_path,kind)\n",
    "    print(mRuns)\n",
    "    print('Runs to process:', len(mRuns))\n",
    "    model_old=''\n",
    "    for run_index in runs:\n",
    "        if run_index > len(mRuns):\n",
    "            print(f\"Run index {run_index} is out of range. There are only {len(mRuns)} runs available.\")\n",
    "        print(run_index,mRuns[run_index]) \n",
    "        file = mRuns[run_index]\n",
    "\n",
    "        model_name, match = extract_model_info(file)\n",
    "        print('main model-name, match =',model_name,match)\n",
    "\n",
    "##        %time pr_annual = compute_and_plot_rainfall(match)\n",
    "        if match != model_old:\n",
    "            pr_annual = compute_rainfall(match,qtype,dir)\n",
    "        else:\n",
    "            print('Model match = ',match)\n",
    "        print('Finished pr_annual')\n",
    "        model_old=match\n",
    "\n",
    "        if \"hist\" in model_name:\n",
    "            ds0 = open_zarr_file(dir, model_name)\n",
    "            print(\"hist length = \", len(ds0.time))\n",
    "        else:\n",
    "            ds0 = open_zarr_files(dir, model_name,match)\n",
    "            print(\"ssp length = \", len(ds0.time))\n",
    "            print(ds0)\n",
    "\n",
    "        t1, t2 = '2015-01-01', '2099-12-31'\n",
    "        t1, t2 = '1950-01-01', '2100-01-01'\n",
    "        if qtype == 'raw' : \n",
    "            pra = ds0.pr.sel(time=slice(t1, t2))\n",
    "            tasmaxa = ds0.tasmax.sel(time=slice(t1, t2))\n",
    "            hursmina = ds0.hursmin.sel(time=slice(t1, t2))\n",
    "            sfcWindmaxa = ds0.sfcWindmax.sel(time=slice(t1, t2))\n",
    "        elif qtype == 'adjust' : \n",
    "            pra = ds0.prAdjust.sel(time=slice(t1, t2))\n",
    "            tasmaxa = ds0.tasmaxAdjust.sel(time=slice(t1, t2))\n",
    "            hursmina = ds0.hursminAdjust.sel(time=slice(t1, t2))\n",
    "            sfcWindmaxa = ds0.sfcWindmaxAdjust.sel(time=slice(t1, t2))\n",
    "\n",
    "        ds1, ds2 = calculate_ffdi(pra, tasmaxa, pr_annual, hursmina, sfcWindmaxa)\n",
    "        output_path = save_ffdi_dataset(ds1,ds2, model_name)\n",
    "#        plot_ffdi(output_path)\n",
    "\n",
    "        print(f\"complete processing for model {run_index} {model_name}\")\n",
    "\n",
    "    print(\"Processing of all catalogues complete.\")\n",
    "    client.close()\n",
    "\n",
    "if __name__ == \"__main__\":\n",
    "    main()"
   ]
  },
  {
   "cell_type": "markdown",
   "id": "3ebebbd9-8fbf-441e-9aa3-0e6fb9af78db",
   "metadata": {},
   "source": [
    "## Extra but must be markdown if batch version is to work."
   ]
  },
  {
   "cell_type": "markdown",
   "id": "f708fbaa-842c-4033-97cc-452d7e2dbf75",
   "metadata": {
    "execution": {
     "iopub.execute_input": "2024-10-15T08:53:35.984891Z",
     "iopub.status.busy": "2024-10-15T08:53:35.983991Z",
     "iopub.status.idle": "2024-10-15T08:54:08.585068Z",
     "shell.execute_reply": "2024-10-15T08:54:08.582855Z",
     "shell.execute_reply.started": "2024-10-15T08:53:35.984826Z"
    }
   },
   "source": [
    "out1='/scratch/xv83/rxm599/ffdi/'\n",
    "out2='AGCD-05i_BOM_ACCESS-CM2_historical_r4i1p1f1_BARPA-R_v1-r1-ACS-QME-BARRA-R2-1980-2022_day_FFDI.zarr'\n",
    "out2='AGCD-05i_BOM_ACCESS-CM2_ssp370_r4i1p1f1_BARPA-R_v1-r1-ACS-QME-BARRA-R2-1980-2022_day_FFDI.zarr'\n",
    "plot_ffdi(out1+out2)"
   ]
  },
  {
   "cell_type": "markdown",
   "id": "9d9392fb-46e6-4986-9dee-c1082e5dfb7a",
   "metadata": {
    "execution": {
     "iopub.execute_input": "2024-10-15T09:05:54.873368Z",
     "iopub.status.busy": "2024-10-15T09:05:54.871911Z",
     "iopub.status.idle": "2024-10-15T09:05:55.005355Z",
     "shell.execute_reply": "2024-10-15T09:05:55.003479Z",
     "shell.execute_reply.started": "2024-10-15T09:05:54.873304Z"
    }
   },
   "source": [
    "out2='AGCD-05i_BOM_ACCESS-CM2_ssp370_r4i1p1f1_BARPA-R_v1-r1-ACS-QME-BARRA-R2-1980-2022_day_KBDI.zarr'\n",
    "ds1 = xr.open_zarr(out1+out2)"
   ]
  },
  {
   "cell_type": "markdown",
   "id": "90051b4a-7a98-4fa5-9a19-993d2ab4c375",
   "metadata": {
    "execution": {
     "iopub.execute_input": "2024-10-15T09:06:28.823291Z",
     "iopub.status.busy": "2024-10-15T09:06:28.822450Z",
     "iopub.status.idle": "2024-10-15T09:06:47.232984Z",
     "shell.execute_reply": "2024-10-15T09:06:47.231556Z",
     "shell.execute_reply.started": "2024-10-15T09:06:28.823229Z"
    }
   },
   "source": [
    "#ds1.KBDI.mean('time').plot()\n",
    "ds1.KBDI.isel(time=slice(19, None)).mean('time', skipna=False).plot()"
   ]
  },
  {
   "cell_type": "code",
   "execution_count": null,
   "id": "4e14d211-1464-45c7-9634-815b13af0a0e",
   "metadata": {},
   "outputs": [],
   "source": []
  }
 ],
 "metadata": {
  "kernelspec": {
   "display_name": "Python [conda env:analysis3-23.01]",
   "language": "python",
   "name": "conda-env-analysis3-23.01-py"
  },
  "language_info": {
   "codemirror_mode": {
    "name": "ipython",
    "version": 3
   },
   "file_extension": ".py",
   "mimetype": "text/x-python",
   "name": "python",
   "nbconvert_exporter": "python",
   "pygments_lexer": "ipython3",
   "version": "3.9.15"
  }
 },
 "nbformat": 4,
 "nbformat_minor": 5
}
